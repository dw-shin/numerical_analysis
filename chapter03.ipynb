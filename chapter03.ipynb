{
  "cells": [
    {
      "cell_type": "markdown",
      "metadata": {
        "id": "view-in-github",
        "colab_type": "text"
      },
      "source": [
        "<a href=\"https://colab.research.google.com/github/dw-shin/numerical_analysis/blob/main/chapter03.ipynb\" target=\"_parent\"><img src=\"https://colab.research.google.com/assets/colab-badge.svg\" alt=\"Open In Colab\"/></a>"
      ]
    },
    {
      "cell_type": "code",
      "execution_count": null,
      "id": "3c9110bf",
      "metadata": {
        "id": "3c9110bf"
      },
      "outputs": [],
      "source": [
        "import numpy as np\n",
        "import matplotlib.pylab as plt\n",
        "%matplotlib inline\n",
        "%config InlineBackend.figure_format='retina'"
      ]
    },
    {
      "cell_type": "markdown",
      "id": "4b9d9f5f",
      "metadata": {
        "id": "4b9d9f5f"
      },
      "source": [
        "# Chapter 3. Interpolation and Polynomial Approximation\n",
        "## 3.1 Interpolation and the Lagrange Polynomial"
      ]
    },
    {
      "cell_type": "markdown",
      "id": "8403c14e",
      "metadata": {
        "id": "8403c14e"
      },
      "source": [
        "### Theorem 3.2\n",
        "\n",
        "If $x_0,\\ x_1,\\ \\cdots,\\ x_n$ are $n+1$ distinct numbers and $f$ is a function whose values are given at these numbers, then a unique polynomial $P(x)$ of degree at most $n$ exists with\n",
        "$$f(x_k) = P(x_k),\\qquad \\text{for each}\\ k = 0,1,\\cdots,n.$$\n",
        "This polynomial is given by\n",
        "$$P(x) = f(x_0) L_{n,0}(x) + \\cdots + f(x_n) L_{n,n}(x) = \\sum_{k=0}^n f(x_k) L_{n,k}(x),$$\n",
        "where, for each $k=0,1,\\cdots,n$,\n",
        "$$L_{n,k}(x) = \\frac{(x-x_0)(x-x_1)\\cdots(x-x_{k-1})(x-x_{k+1})\\cdots(x-x_n)}{(x_k-x_0)(x_k-x_1)\\cdots(x_k-x_{k-1})(x_k-x_{k+1})\\cdots(x_k-x_n)} = \\prod_{\\substack{i=0\\\\ i\\neq k}}^n \\frac{(x-x_i)}{(x_k - x_i)}.$$"
      ]
    },
    {
      "cell_type": "markdown",
      "id": "acfd2e26",
      "metadata": {
        "id": "acfd2e26"
      },
      "source": [
        "### Q1: Write the appropriate code for the 'None' position.\n",
        "(Hint: See the last equation in the above theorem)"
      ]
    },
    {
      "cell_type": "code",
      "execution_count": null,
      "id": "f70c1058",
      "metadata": {
        "id": "f70c1058"
      },
      "outputs": [],
      "source": [
        "def Lagrange_polynomial(t,x,fval):\n",
        "    n = x.shape[0]\n",
        "    L = np.ones(n)\n",
        "    for i in range(0,n):\n",
        "        for j in range(0,n):\n",
        "            if i!=j:\n",
        "                L[i] *= None\n",
        "    val = np.sum(L*fval)\n",
        "    return val"
      ]
    },
    {
      "cell_type": "markdown",
      "id": "24577aef",
      "metadata": {
        "id": "24577aef"
      },
      "source": [
        "### Example 2\n",
        "Use the numbers (called nodes) $x_0 = 2,\\ x_1 = 2.75$, and $x_2 = 4$ to find the second Lagrange interpolating polynomial for $f(x) = 1/x$ and approximate $f(3) = 1/3$."
      ]
    },
    {
      "cell_type": "code",
      "execution_count": null,
      "id": "aa722c66",
      "metadata": {
        "id": "aa722c66"
      },
      "outputs": [],
      "source": [
        "x = np.array([2, 2.75, 4])\n",
        "fval = 1/x\n",
        "t = 3\n",
        "val = Lagrange_polynomial(t,x,fval)\n",
        "print(val)"
      ]
    },
    {
      "cell_type": "markdown",
      "id": "7854cc35",
      "metadata": {
        "id": "7854cc35"
      },
      "source": [
        "ans\n",
        "```\n",
        "0.3295454545454546\n",
        "```"
      ]
    },
    {
      "cell_type": "code",
      "execution_count": null,
      "id": "cca37efb",
      "metadata": {
        "id": "cca37efb"
      },
      "outputs": [],
      "source": [
        "t = np.linspace(0.2,5.2,200)\n",
        "val = np.zeros_like(t)\n",
        "for j in range(len(t)):\n",
        "    val[j] = Lagrange_polynomial(t[j],x,fval)"
      ]
    },
    {
      "cell_type": "code",
      "execution_count": null,
      "id": "52d99350",
      "metadata": {
        "id": "52d99350"
      },
      "outputs": [],
      "source": [
        "plt.figure(figsize=(12,10))\n",
        "plt.plot(t,1/t, label = '$y = 1/x$')\n",
        "plt.plot(t,val, label = 'Lagrange Interpolating Polynomial')\n",
        "plt.plot(x,1/x,'o')\n",
        "plt.legend()\n",
        "plt.title('Lagrange Interpolating Polynomial with $x_0$ = {}, $x_1$ = {}, and $x_2$ = {}'.format(x[0],x[1],x[2]))"
      ]
    },
    {
      "cell_type": "markdown",
      "id": "c4ffdb81",
      "metadata": {
        "id": "c4ffdb81"
      },
      "source": [
        "ans\n",
        "```\n",
        "Text(0.5, 1.0, 'Lagrange Interpolating Polynomial with $x_0$ = 2.0, $x_1$ = 2.75, and $x_2$ = 4.0')\n",
        "```\n",
        "<img src=\"https://github.com/dw-shin/numerical_analysis/blob/main/figures/lagrange_result.png?raw=true\" width=\"700\"/>"
      ]
    },
    {
      "cell_type": "markdown",
      "id": "cd5c0f08",
      "metadata": {
        "id": "cd5c0f08"
      },
      "source": [
        "## 3.3 Divided Differences\n",
        "### Newton's Divided Difference Formula\n",
        "<img src=\"https://github.com/dw-shin/numerical_analysis/blob/main/figures/divided_difference.png?raw=true\" width=\"900\"/>"
      ]
    },
    {
      "cell_type": "markdown",
      "id": "8523cf83",
      "metadata": {
        "id": "8523cf83"
      },
      "source": [
        "### Q2: Complete the following code."
      ]
    },
    {
      "cell_type": "code",
      "execution_count": null,
      "id": "24197aba",
      "metadata": {
        "id": "24197aba"
      },
      "outputs": [],
      "source": [
        "def newton_divided_difference(x,fval):\n",
        "    n = x.shape[0]\n",
        "    F = np.zeros((n,n))\n",
        "    F[:,0] = fval\n",
        "    # Step 1\n",
        "    for i in range(1,n):\n",
        "        for j in range(1,i+1):\n",
        "            F[i,j] = None\n",
        "    return np.diag(F)"
      ]
    },
    {
      "cell_type": "markdown",
      "id": "5eb9dd53",
      "metadata": {
        "id": "5eb9dd53"
      },
      "source": [
        "### Nested Form\n",
        "\n",
        "$$p(x) = a_0 + a_1(x − x_0) + a_2(x − x_0)(x − x_1)+\\cdots + a_n(x − x_0)(x − x_1) · · · (x − x_{n−1})$$\n",
        "\n",
        "$$\\Downarrow$$\n",
        "\n",
        "\\begin{align*}\n",
        "p(x) &= a_0 + (x − x_0)(a_1 + (x − x_1)(a_2 + \\cdots + (x − x_{n−1})a_n)) \\cdots)) \\\\\n",
        "&= (\\cdots ((a_n(x − x_{n−1}) + a_{n−1})(x − x_{n−2}) + a_{n−2}) \\cdots)(x − x_0) + a_0\n",
        "\\end{align*}"
      ]
    },
    {
      "cell_type": "markdown",
      "id": "123ab702",
      "metadata": {
        "id": "123ab702"
      },
      "source": [
        "### Q3: Complete the following code."
      ]
    },
    {
      "cell_type": "code",
      "execution_count": null,
      "id": "2c20e285",
      "metadata": {
        "id": "2c20e285"
      },
      "outputs": [],
      "source": [
        "def newton_interpolation(t,x,coef):\n",
        "    n = len(coef)\n",
        "    val = coef[n-1]\n",
        "    for i in reversed(range(n-1)):\n",
        "        val *= None\n",
        "        val += None\n",
        "    return val"
      ]
    },
    {
      "cell_type": "markdown",
      "id": "1034bc07",
      "metadata": {
        "id": "1034bc07"
      },
      "source": [
        "### Example 1\n",
        "Complete the divided difference table for the data used in Example 2 of Section 3.2, and reproduced in Table 3.10 and construct the interpolating polynomial that uses all these data.\n",
        "\n",
        "| x | f(x) |\n",
        "| --- | --- |\n",
        "| 1.0 | 0.7651977 |\n",
        "| 1.3 | 0.6200860 |\n",
        "| 1.6 | 0.4554022 |\n",
        "| 1.9 | 0.2818186 |\n",
        "| 2.2 | 0.1103623 |"
      ]
    },
    {
      "cell_type": "code",
      "execution_count": null,
      "id": "7ec95539",
      "metadata": {
        "id": "7ec95539"
      },
      "outputs": [],
      "source": [
        "x = np.array([1.0, 1.3, 1.6, 1.9, 2.2])\n",
        "fval = np.array([0.7651977, 0.6200860, 0.4554022, 0.2818186, 0.1103623])\n",
        "\n",
        "coef = newton_divided_difference(x,fval)\n",
        "print(coef)"
      ]
    },
    {
      "cell_type": "markdown",
      "id": "3718a3a8",
      "metadata": {
        "id": "3718a3a8"
      },
      "source": [
        "ans\n",
        "```\n",
        "[ 0.7651977  -0.48370567 -0.10873389  0.0658784   0.0018251 ]\n",
        "```"
      ]
    },
    {
      "cell_type": "code",
      "execution_count": null,
      "id": "d12b2700",
      "metadata": {
        "id": "d12b2700"
      },
      "outputs": [],
      "source": [
        "t = 1.5\n",
        "val = newton_interpolation(t,x,coef)\n",
        "print(val)"
      ]
    },
    {
      "cell_type": "markdown",
      "id": "e181e83c",
      "metadata": {
        "id": "e181e83c"
      },
      "source": [
        "ans\n",
        "```\n",
        "0.5118199942386832\n",
        "```"
      ]
    },
    {
      "cell_type": "markdown",
      "id": "1b69f025",
      "metadata": {
        "id": "1b69f025"
      },
      "source": [
        "### Example 2 in Section 3.1"
      ]
    },
    {
      "cell_type": "code",
      "execution_count": null,
      "id": "337cf094",
      "metadata": {
        "id": "337cf094"
      },
      "outputs": [],
      "source": [
        "x = np.array([2, 2.75, 4])\n",
        "fval = 1/x\n",
        "t = 3\n",
        "coef = newton_divided_difference(x,fval)\n",
        "val = newton_interpolation(t,x,coef)\n",
        "print(val)"
      ]
    },
    {
      "cell_type": "markdown",
      "id": "60573a99",
      "metadata": {
        "id": "60573a99"
      },
      "source": [
        "ans\n",
        "```\n",
        "0.3295454545454546\n",
        "```"
      ]
    },
    {
      "cell_type": "code",
      "execution_count": null,
      "id": "81ae5a6a",
      "metadata": {
        "id": "81ae5a6a"
      },
      "outputs": [],
      "source": [
        "t = np.linspace(0.2,5.2,200)\n",
        "val = np.zeros_like(t)\n",
        "for j in range(len(t)):\n",
        "    val[j] = newton_interpolation(t[j],x,coef)"
      ]
    },
    {
      "cell_type": "code",
      "execution_count": null,
      "id": "cbdc0cf8",
      "metadata": {
        "id": "cbdc0cf8"
      },
      "outputs": [],
      "source": [
        "plt.figure(figsize=(12,10))\n",
        "plt.plot(t,1/t, label = '$y = 1/x$')\n",
        "plt.plot(t,val, label = 'Newton Interpolating Polynomial')\n",
        "plt.plot(x,1/x,'o')\n",
        "plt.legend()\n",
        "plt.title('Newton Interpolating Polynomial with $x_0$ = {}, $x_1$ = {}, and $x_2$ = {}'.format(x[0],x[1],x[2]))"
      ]
    },
    {
      "cell_type": "markdown",
      "id": "9f1cf266",
      "metadata": {
        "id": "9f1cf266"
      },
      "source": [
        "ans\n",
        "<img src=\"https://github.com/dw-shin/numerical_analysis/blob/main/figures/divided_difference_result.png?raw=true\" width=\"900\"/>"
      ]
    },
    {
      "cell_type": "markdown",
      "id": "b39c57f0",
      "metadata": {
        "id": "b39c57f0"
      },
      "source": [
        "## 3.4 Hermite Interpolation\n",
        "<img src=\"https://github.com/dw-shin/numerical_analysis/blob/main/figures/hermite.png?raw=true\" width=\"900\"/>"
      ]
    },
    {
      "cell_type": "markdown",
      "id": "765b5dde",
      "metadata": {
        "id": "765b5dde"
      },
      "source": [
        "### Q4: Complete the following code."
      ]
    },
    {
      "cell_type": "code",
      "execution_count": null,
      "id": "f99ed598",
      "metadata": {
        "id": "f99ed598"
      },
      "outputs": [],
      "source": [
        "def hermite_coef(x,fval,dfval):\n",
        "    n = len(x)\n",
        "    z = np.zeros(2*n)\n",
        "    Q = np.zeros((2*n,2*n))\n",
        "    # Step 1\n",
        "    for i in range(n):\n",
        "        # Step 2\n",
        "        z[2*i] = None\n",
        "        z[2*i+1] = None\n",
        "        Q[2*i,0] = None\n",
        "        Q[2*i+1,0] = None\n",
        "        Q[2*i+1,1] = None\n",
        "\n",
        "        # Step 3\n",
        "        if i != 0:\n",
        "            Q[2*i, 1] = None\n",
        "\n",
        "    # Step 4\n",
        "    for i in range(2,2*n):\n",
        "        for j in range(2,i+1):\n",
        "            Q[i,j] = None\n",
        "    return (np.diag(Q), z)"
      ]
    },
    {
      "cell_type": "markdown",
      "id": "c2960cc4",
      "metadata": {
        "id": "c2960cc4"
      },
      "source": [
        "### Nested Form\n",
        "\n",
        "\\begin{align*}\n",
        "\tH(x) &= Q_{0,0} + Q_{1,1}(x-x_0) + Q_{2,2}(x-x_0)^2 + Q_{3,3} (x-x_0)^2 (x-x_1) + Q_{4,4}(x-x_0)^2 (x-x_1)^2 \\\\\n",
        "\t&\\qquad + \\cdots + Q_{2n+1,2n+1}(x-x_0)^2 (x-x_1)^2 \\cdots (x-x_{n-1})^2 (x-x_n)\n",
        "\\end{align*}\n",
        "\n",
        "$$\\Downarrow$$\n",
        "\n",
        "\\begin{align*}\n",
        "H(x) &= (\\cdots ((Q_{2n+1,2n+1}(x − x_{n}) + Q_{2n,2n})(x − x_{n−1}) + Q_{2n−1,2n-1}) \\cdots)(x − x_0) + Q_{0,0}\n",
        "\\end{align*}"
      ]
    },
    {
      "cell_type": "markdown",
      "id": "67690f07",
      "metadata": {
        "id": "67690f07"
      },
      "source": [
        "### Q5: Complete the following code."
      ]
    },
    {
      "cell_type": "code",
      "execution_count": null,
      "id": "d257d5a9",
      "metadata": {
        "id": "d257d5a9"
      },
      "outputs": [],
      "source": [
        "def hermite_interpolation(t,z,coef):\n",
        "    n = len(coef)\n",
        "    val = coef[n-1]\n",
        "    for i in reversed(range(n-1)):\n",
        "        val *= None\n",
        "        val += None\n",
        "    return val"
      ]
    },
    {
      "cell_type": "markdown",
      "id": "7481b18d",
      "metadata": {
        "id": "7481b18d"
      },
      "source": [
        "### Example 2\n",
        "Use the data given in Example 1 and the divided difference method to determine the Hermite polynomial approximation at x = 1.5.\n",
        "\n",
        "| $k$ | $x_k$ | $f(x_k)$ | $f'(x_k)$ |\n",
        "| --- | --- | --- | --- |\n",
        "| $0$ | $1.3$ | $0.6200860$ | $−0.5220232$ |\n",
        "| $1$ | $1.6$ | $0.4554022$ | $−0.5698959$ |\n",
        "| $2$ | $1.9$ | $0.2818186$ | $−0.5811571$ |"
      ]
    },
    {
      "cell_type": "code",
      "execution_count": null,
      "id": "d6592d5b",
      "metadata": {
        "id": "d6592d5b"
      },
      "outputs": [],
      "source": [
        "x = np.array([1.3, 1.6, 1.9])\n",
        "fval = np.array([0.6200860, 0.4554022, 0.2818186])\n",
        "dfval = np.array([-0.5220232, -0.5698959, -0.5811571])\n",
        "\n",
        "coef, z = hermite_coef(x,fval,dfval)\n",
        "print(coef)\n",
        "print(z)"
      ]
    },
    {
      "cell_type": "markdown",
      "id": "ade6bc4d",
      "metadata": {
        "id": "ade6bc4d"
      },
      "source": [
        "ans\n",
        "```\n",
        "[ 0.620086   -0.5220232  -0.08974267  0.06636556  0.00266667 -0.00277469]\n",
        "[1.3 1.3 1.6 1.6 1.9 1.9]\n",
        "```"
      ]
    },
    {
      "cell_type": "code",
      "execution_count": null,
      "id": "981e34a0",
      "metadata": {
        "id": "981e34a0"
      },
      "outputs": [],
      "source": [
        "t = 1.5\n",
        "val = hermite_interpolation(t,z,coef)\n",
        "print(val)"
      ]
    },
    {
      "cell_type": "markdown",
      "id": "bd64b47f",
      "metadata": {
        "id": "bd64b47f"
      },
      "source": [
        "ans\n",
        "```\n",
        "0.5118277017283951\n",
        "```"
      ]
    },
    {
      "cell_type": "markdown",
      "id": "54bce90b",
      "metadata": {
        "id": "54bce90b"
      },
      "source": [
        "### Example 2 in Section 3.1"
      ]
    },
    {
      "cell_type": "code",
      "execution_count": null,
      "id": "8af9a969",
      "metadata": {
        "id": "8af9a969"
      },
      "outputs": [],
      "source": [
        "x = np.array([2, 2.75, 4])\n",
        "fval = 1/x\n",
        "dfval = -1/x**2\n",
        "t = 3\n",
        "coef, z = hermite_coef(x,fval,dfval)\n",
        "val = hermite_interpolation(t,z,coef)\n",
        "print(val)"
      ]
    },
    {
      "cell_type": "markdown",
      "id": "8a3e84d8",
      "metadata": {
        "id": "8a3e84d8"
      },
      "source": [
        "ans\n",
        "```\n",
        "0.33329028925619836\n",
        "```"
      ]
    },
    {
      "cell_type": "code",
      "execution_count": null,
      "id": "2ab26909",
      "metadata": {
        "id": "2ab26909"
      },
      "outputs": [],
      "source": [
        "t = np.linspace(0.2,5.2,200)\n",
        "val = np.zeros_like(t)\n",
        "for j in range(len(t)):\n",
        "    val[j] = hermite_interpolation(t[j],z,coef)"
      ]
    },
    {
      "cell_type": "code",
      "execution_count": null,
      "id": "449d6f70",
      "metadata": {
        "id": "449d6f70"
      },
      "outputs": [],
      "source": [
        "plt.figure(figsize=(12,10))\n",
        "plt.plot(t,1/t, label = '$y = 1/x$')\n",
        "plt.plot(t,val, label = 'Hermite Interpolating Polynomial')\n",
        "plt.plot(x,1/x,'o')\n",
        "plt.legend()\n",
        "plt.title('Hermite Interpolating Polynomial with $x_0$ = {}, $x_1$ = {}, and $x_2$ = {}'.format(x[0],x[1],x[2]))"
      ]
    },
    {
      "cell_type": "markdown",
      "id": "e7d292aa",
      "metadata": {
        "id": "e7d292aa"
      },
      "source": [
        "ans\n",
        "<img src=\"https://github.com/dw-shin/numerical_analysis/blob/main/figures/hermite_result.png?raw=true\" width=\"900\"/>"
      ]
    },
    {
      "cell_type": "markdown",
      "id": "665ac2f2",
      "metadata": {
        "id": "665ac2f2"
      },
      "source": [
        "## 3.5 Cubic Spline Interpolation\n",
        "### Natural Cubic Spline"
      ]
    },
    {
      "cell_type": "markdown",
      "id": "0e6c8c4e",
      "metadata": {
        "id": "0e6c8c4e"
      },
      "source": [
        "<img src=\"https://github.com/dw-shin/numerical_analysis/blob/main/figures/natural_cubic.png?raw=true\" width=\"900\"/>"
      ]
    },
    {
      "cell_type": "markdown",
      "id": "3d418916",
      "metadata": {
        "id": "3d418916"
      },
      "source": [
        "### Q6: Complete the following code."
      ]
    },
    {
      "cell_type": "code",
      "execution_count": null,
      "id": "06ddea97",
      "metadata": {
        "id": "06ddea97"
      },
      "outputs": [],
      "source": [
        "def natural_cubic_spline(n,x,fval):\n",
        "    a = fval\n",
        "    b = np.zeros(n)\n",
        "    c = np.zeros(n+1)\n",
        "    d = np.zeros(n)\n",
        "    h = np.zeros(n)\n",
        "    l = np.zeros(n+1)\n",
        "    mu = np.zeros(n)\n",
        "    z = np.zeros(n+1)\n",
        "    alpha = np.zeros(n)\n",
        "    # Step 1\n",
        "    for i in range(n):\n",
        "\n",
        "    # Step 2\n",
        "    for i in range(1,n):\n",
        "\n",
        "    # Step 3\n",
        "\n",
        "    # Step 4\n",
        "    for i in range(1,n):\n",
        "\n",
        "    # Step 5\n",
        "\n",
        "    # Step 6\n",
        "    for j in reversed(range(n)):\n",
        "\n",
        "    return (a,b,c,d)"
      ]
    },
    {
      "cell_type": "markdown",
      "id": "971ab090",
      "metadata": {
        "id": "971ab090"
      },
      "source": [
        "### Example 2\n",
        "Use the data points $(0,1),\\ (1,e),\\ (2,e^2)$, and $(3,e^3)$ to form a natural spline $S(x)$ that approximates $f(x) = e^x$."
      ]
    },
    {
      "cell_type": "code",
      "execution_count": null,
      "id": "c5ba7887",
      "metadata": {
        "id": "c5ba7887"
      },
      "outputs": [],
      "source": [
        "n = 3\n",
        "x = np.array([0,1,2,3])\n",
        "fval = np.exp(x)"
      ]
    },
    {
      "cell_type": "code",
      "execution_count": null,
      "id": "57f3af9b",
      "metadata": {
        "id": "57f3af9b"
      },
      "outputs": [],
      "source": [
        "a,b,c,d = natural_cubic_spline(n,x,fval)\n",
        "print('a = \\n', a)\n",
        "print('b = \\n', b)\n",
        "print('c = \\n', c)\n",
        "print('d = \\n', d)"
      ]
    },
    {
      "cell_type": "markdown",
      "id": "c18e332a",
      "metadata": {
        "id": "c18e332a"
      },
      "source": [
        "ans\n",
        "```\n",
        "a =\n",
        " [ 1.          2.71828183  7.3890561  20.08553692]\n",
        "b =\n",
        " [1.46599761 2.22285026 8.80976965]\n",
        "c =\n",
        " [0.         0.75685264 5.83006675 0.        ]\n",
        "d =\n",
        " [ 0.25228421  1.69107137 -1.94335558]\n",
        "```"
      ]
    },
    {
      "cell_type": "code",
      "execution_count": null,
      "id": "3ff448e4",
      "metadata": {
        "id": "3ff448e4"
      },
      "outputs": [],
      "source": [
        "def evaluate_cubic_spline(nodes,x,a,b,c,d):\n",
        "    val = np.zeros_like(nodes)\n",
        "    for i in range(len(x)-1):\n",
        "        ind = (nodes >= x[i]) & (nodes <= x[i+1])\n",
        "        xx = nodes[ind]\n",
        "        val[ind] = a[i] + b[i]*(xx - x[i]) + c[i]*(xx-x[i])**2 + d[i]*(xx-x[i])**3\n",
        "    return val"
      ]
    },
    {
      "cell_type": "code",
      "execution_count": null,
      "id": "70d04cfe",
      "metadata": {
        "id": "70d04cfe"
      },
      "outputs": [],
      "source": [
        "nodes = np.linspace(0,3)\n",
        "fval = evaluate_cubic_spline(nodes,x,a,b,c,d)"
      ]
    },
    {
      "cell_type": "code",
      "execution_count": null,
      "id": "ede22451",
      "metadata": {
        "id": "ede22451"
      },
      "outputs": [],
      "source": [
        "plt.figure(figsize=(12,10))\n",
        "plt.plot(nodes,np.exp(nodes), label = '$y = e^x$')\n",
        "plt.plot(nodes,fval, label = 'Natural cubic spline')\n",
        "plt.plot(x,np.exp(x),'o')\n",
        "plt.legend()\n",
        "plt.title('Natural Cubic Spline with n = {}'.format(n))"
      ]
    },
    {
      "cell_type": "markdown",
      "id": "1c95ea7d",
      "metadata": {
        "id": "1c95ea7d"
      },
      "source": [
        "ans\n",
        "```\n",
        "Text(0.5, 1.0, 'Lagrange Interpolating Polynomial with $x_0$ = 2.0, $x_1$ = 2.75, and $x_2$ = 4.0')\n",
        "```\n",
        "<img src=\"https://github.com/dw-shin/numerical_analysis/blob/main/figures/natural_spline_result.png?raw=true\" width=\"700\"/>"
      ]
    },
    {
      "cell_type": "code",
      "execution_count": null,
      "id": "0bf79d47",
      "metadata": {
        "id": "0bf79d47"
      },
      "outputs": [],
      "source": [
        "x = np.array([0,0.5,1,1.5,2,2.5,3])\n",
        "n = len(x)-1\n",
        "fval = np.exp(x)"
      ]
    },
    {
      "cell_type": "code",
      "execution_count": null,
      "id": "c4856134",
      "metadata": {
        "id": "c4856134"
      },
      "outputs": [],
      "source": [
        "a,b,c,d = natural_cubic_spline(n,x,fval)\n",
        "nodes = np.linspace(0,3)\n",
        "fval = evaluate_cubic_spline(nodes,x,a,b,c,d)\n",
        "plt.figure(figsize=(12,10))\n",
        "plt.plot(nodes,np.exp(nodes), label = '$y = e^x$')\n",
        "plt.plot(nodes,fval, label = 'Natural cubic spline')\n",
        "plt.plot(x,np.exp(x),'o')\n",
        "plt.legend()\n",
        "plt.title('Natural Cubic Spline with n = {}'.format(n))"
      ]
    },
    {
      "cell_type": "markdown",
      "id": "2435f396",
      "metadata": {
        "id": "2435f396"
      },
      "source": [
        "ans\n",
        "```\n",
        "Text(0.5, 1.0, 'Natural Cubic Spline with n = 6')\n",
        "```\n",
        "<img src=\"https://github.com/dw-shin/numerical_analysis/blob/main/figures/natural_spline_result_2.png?raw=true\" width=\"700\"/>"
      ]
    },
    {
      "cell_type": "markdown",
      "id": "448058e2",
      "metadata": {
        "id": "448058e2"
      },
      "source": [
        "### Clamped Cubic Spline"
      ]
    },
    {
      "cell_type": "markdown",
      "id": "377a71a5",
      "metadata": {
        "id": "377a71a5"
      },
      "source": [
        "<img src=\"https://github.com/dw-shin/numerical_analysis/blob/main/figures/clamped_cubic.png?raw=true\" width=\"900\"/>"
      ]
    },
    {
      "cell_type": "markdown",
      "id": "5bc1ab12",
      "metadata": {
        "id": "5bc1ab12"
      },
      "source": [
        "### Q7: Complete the following code."
      ]
    },
    {
      "cell_type": "code",
      "execution_count": null,
      "id": "2fd33805",
      "metadata": {
        "id": "2fd33805"
      },
      "outputs": [],
      "source": [
        "def clamped_cubic_spline(n,x,fval,FPO,FPN):\n",
        "    a = fval\n",
        "    b = np.zeros(n)\n",
        "    c = np.zeros(n+1)\n",
        "    d = np.zeros(n)\n",
        "    h = np.zeros(n)\n",
        "    l = np.zeros(n+1)\n",
        "    mu = np.zeros(n)\n",
        "    z = np.zeros(n+1)\n",
        "    alpha = np.zeros(n+1)\n",
        "    # Step 1\n",
        "    for i in range(n):\n",
        "\n",
        "    # Step 2\n",
        "\n",
        "    # Step 3\n",
        "    for i in range(1,n):\n",
        "\n",
        "    # Step 4\n",
        "\n",
        "    # Step 5\n",
        "    for i in range(1,n):\n",
        "\n",
        "    # Step 6\n",
        "\n",
        "    # Step 7\n",
        "    for j in reversed(range(n)):\n",
        "\n",
        "    return (a,b,c,d)"
      ]
    },
    {
      "cell_type": "markdown",
      "id": "1f92db02",
      "metadata": {
        "id": "1f92db02"
      },
      "source": [
        "### Example 4\n",
        "Example 2 used a natural spline and the data points $(0,1),\\ (1,e),\\ (2,e^2),$ and $(3,e^3)$ to form a new approximating function $S(x)$. Determine the clamped spline $s(x)$ that uses this data and the additional information that, since $f'(x) = e^x$, so $f'(x) = 1$ and $f'(e) = e^3$."
      ]
    },
    {
      "cell_type": "code",
      "execution_count": null,
      "id": "bfa2d2d2",
      "metadata": {
        "id": "bfa2d2d2"
      },
      "outputs": [],
      "source": [
        "n = 3\n",
        "x = np.array([0,1,2,3])\n",
        "fval = np.exp(x)\n",
        "FPO = 1\n",
        "FPN = np.exp(3)"
      ]
    },
    {
      "cell_type": "code",
      "execution_count": null,
      "id": "c9751d82",
      "metadata": {
        "id": "c9751d82"
      },
      "outputs": [],
      "source": [
        "a,b,c,d = clamped_cubic_spline(n,x,fval,FPO,FPN)\n",
        "print('a = \\n', a)\n",
        "print('b = \\n', b)\n",
        "print('c = \\n', c)\n",
        "print('d = \\n', d)"
      ]
    },
    {
      "cell_type": "markdown",
      "id": "36611739",
      "metadata": {
        "id": "36611739"
      },
      "source": [
        "ans\n",
        "```\n",
        "a =\n",
        " [ 1.          2.71828183  7.3890561  20.08553692]\n",
        "b =\n",
        " [1.         2.71016299 7.32651634]\n",
        "c =\n",
        " [0.4446825  1.26548049 3.35087286 9.40814772]\n",
        "d =\n",
        " [0.27359933 0.69513079 2.01909162]\n",
        " ```"
      ]
    },
    {
      "cell_type": "code",
      "execution_count": null,
      "id": "e78c88ff",
      "metadata": {
        "id": "e78c88ff"
      },
      "outputs": [],
      "source": [
        "nodes = np.linspace(0,3)\n",
        "fvalc = evaluate_cubic_spline(nodes,x,a,b,c,d)\n",
        "plt.figure(figsize=(12,10))\n",
        "plt.plot(nodes,np.exp(nodes),'b-',linewidth=2,label = '$y = e^x$')\n",
        "plt.plot(nodes,fvalc,'r--',linewidth=3,label = 'Clamped cubic spline')\n",
        "plt.plot(x,np.exp(x),'o')\n",
        "plt.legend()\n",
        "plt.title('Clamped Cubic Spline with n = {}'.format(n))"
      ]
    },
    {
      "cell_type": "markdown",
      "id": "a9b93778",
      "metadata": {
        "id": "a9b93778"
      },
      "source": [
        "ans\n",
        "```\n",
        "Text(0.5, 1.0, 'Clamped Cubic Spline with n = 3')\n",
        "```\n",
        "<img src=\"https://github.com/dw-shin/numerical_analysis/blob/main/figures/clamped_spline_result.png?raw=true\" width=\"700\"/>"
      ]
    },
    {
      "cell_type": "code",
      "execution_count": null,
      "id": "7fc8acfd",
      "metadata": {
        "id": "7fc8acfd"
      },
      "outputs": [],
      "source": [
        "nodes = np.linspace(0,3)\n",
        "fvalc = evaluate_cubic_spline(nodes,x,a,b,c,d)\n",
        "an,bn,cn,dn = natural_cubic_spline(n,x,fval)\n",
        "fvaln = evaluate_cubic_spline(nodes,x,an,bn,cn,dn)\n",
        "plt.figure(figsize=(12,10))\n",
        "plt.plot(nodes,np.exp(nodes),'b-',linewidth=2,label = '$y = e^x$')\n",
        "plt.plot(nodes,fvalc,'r--',linewidth=3,label = 'Clamped cubic spline')\n",
        "plt.plot(nodes,fvaln,'y-',linewidth=2,label = 'Natural cubic spline')\n",
        "plt.plot(x,np.exp(x),'o')\n",
        "plt.legend()\n",
        "plt.title('Natural and Clamped Cubic Spline with n = {}'.format(n))"
      ]
    },
    {
      "cell_type": "markdown",
      "id": "e3f90c57",
      "metadata": {
        "id": "e3f90c57"
      },
      "source": [
        "ans\n",
        "```\n",
        "Text(0.5, 1.0, 'Natural and Clamped Cubic Spline with n = 3')\n",
        "```\n",
        "<img src=\"https://github.com/dw-shin/numerical_analysis/blob/main/figures/clamped_spline_result_2.png?raw=true\" width=\"700\"/>"
      ]
    },
    {
      "cell_type": "code",
      "execution_count": null,
      "id": "d716862c",
      "metadata": {
        "id": "d716862c"
      },
      "outputs": [],
      "source": []
    }
  ],
  "metadata": {
    "kernelspec": {
      "display_name": "Python 3",
      "language": "python",
      "name": "python3"
    },
    "language_info": {
      "codemirror_mode": {
        "name": "ipython",
        "version": 3
      },
      "file_extension": ".py",
      "mimetype": "text/x-python",
      "name": "python",
      "nbconvert_exporter": "python",
      "pygments_lexer": "ipython3",
      "version": "3.9.5"
    },
    "colab": {
      "provenance": [],
      "include_colab_link": true
    }
  },
  "nbformat": 4,
  "nbformat_minor": 5
}