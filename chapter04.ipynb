{
  "cells": [
    {
      "cell_type": "markdown",
      "metadata": {
        "id": "view-in-github",
        "colab_type": "text"
      },
      "source": [
        "<a href=\"https://colab.research.google.com/github/dw-shin/numerical_analysis/blob/main/chapter04.ipynb\" target=\"_parent\"><img src=\"https://colab.research.google.com/assets/colab-badge.svg\" alt=\"Open In Colab\"/></a>"
      ]
    },
    {
      "cell_type": "code",
      "execution_count": null,
      "id": "b44b3b33",
      "metadata": {
        "id": "b44b3b33"
      },
      "outputs": [],
      "source": [
        "import numpy as np"
      ]
    },
    {
      "cell_type": "markdown",
      "id": "2666022d",
      "metadata": {
        "id": "2666022d"
      },
      "source": [
        "# Chapter 4. Numerical Differentiation and Integration\n",
        "## 4.1 Numerical Differentiation\n",
        "### Forward and Backward Differences"
      ]
    },
    {
      "cell_type": "markdown",
      "id": "3857ce8c",
      "metadata": {
        "id": "3857ce8c"
      },
      "source": [
        "For small $h$,\n",
        "$$f'(x) \\approx \\frac{f(x+h) - f(x_0)}{h}$$\n",
        "\n",
        "$h > 0$: the forward-difference formula\n",
        "\n",
        "$h < 0$: the backward-difference formula"
      ]
    },
    {
      "cell_type": "markdown",
      "id": "1eaf4a60",
      "metadata": {
        "id": "1eaf4a60"
      },
      "source": [
        "### Q1: Write the appropriate code for the 'None' position.\n",
        "(Hint: See the above equation)"
      ]
    },
    {
      "cell_type": "code",
      "execution_count": null,
      "id": "20695008",
      "metadata": {
        "id": "20695008"
      },
      "outputs": [],
      "source": [
        "def finite_difference(f,a,h):\n",
        "    val = None\n",
        "    return val"
      ]
    },
    {
      "cell_type": "markdown",
      "id": "b329fd2f",
      "metadata": {
        "id": "b329fd2f"
      },
      "source": [
        "### Example 1\n",
        "Use the forward-difference formula to approximate the derivative of $f(x) = \\ln x$ at $x_0 = 1.8$ using $h = 0.1,\\ h = 0.05$, and $h = 0.01$, and check the errors between the exact value $f'(1.8) = 5/9$."
      ]
    },
    {
      "cell_type": "code",
      "execution_count": null,
      "id": "450df9c7",
      "metadata": {
        "id": "450df9c7"
      },
      "outputs": [],
      "source": [
        "f = lambda x: np.log(x)\n",
        "a = 1.8\n",
        "h_val = [0.1, 0.05, 0.01]\n",
        "for h in h_val:\n",
        "    val = finite_difference(f,a,h)\n",
        "    print('the forward-difference: {}\\t error: {}'.format(val, np.abs(5/9 - val)))"
      ]
    },
    {
      "cell_type": "markdown",
      "id": "0d14f93e",
      "metadata": {
        "id": "0d14f93e"
      },
      "source": [
        "ans\n",
        "```\n",
        "the forward-difference: 0.5406722127027574\t error: 0.014883342852798132\n",
        "the forward-difference: 0.5479794837622887\t error: 0.007576071793266914\n",
        "the forward-difference: 0.5540180375615322\t error: 0.0015375179940233519\n",
        "```"
      ]
    },
    {
      "cell_type": "markdown",
      "id": "63ff52c8",
      "metadata": {
        "id": "63ff52c8"
      },
      "source": [
        "### Three-Point Midpoint Formula\n",
        "$$f'(x_0) = \\frac{1}{2h}\\left[ -f(x_0-h) + f(x_0 + h)\\right] - \\frac{h^2}{6}f^{(3)}(\\xi_1)$$\n",
        "where $\\xi_1$ lies between $x_0 - h$ and $x_0 + h$"
      ]
    },
    {
      "cell_type": "markdown",
      "id": "7e5e8691",
      "metadata": {
        "id": "7e5e8691"
      },
      "source": [
        "### Q2: Write the appropriate code for the 'None' position.\n",
        "(Hint: See the above equation)"
      ]
    },
    {
      "cell_type": "code",
      "execution_count": null,
      "id": "93b1bb5d",
      "metadata": {
        "id": "93b1bb5d"
      },
      "outputs": [],
      "source": [
        "def three_point_mid(f,a,h):\n",
        "    val = None\n",
        "    return val"
      ]
    },
    {
      "cell_type": "markdown",
      "id": "37bfa4e6",
      "metadata": {
        "id": "37bfa4e6"
      },
      "source": [
        "### Example\n",
        "Use the three-point midpoint formula to approximate $f'(0.9)$, where $f(x) = \\sin x$ with $h = 0.1,\\ 0.05,\\ 0.02,\\ 0.01,\\ 0.005,\\ 0.002,\\ 0.001$, and check the errors between the exact value $f'(0.9) = \\cos 0.9$."
      ]
    },
    {
      "cell_type": "code",
      "execution_count": null,
      "id": "15e02a9c",
      "metadata": {
        "id": "15e02a9c"
      },
      "outputs": [],
      "source": [
        "f = lambda x: np.sin(x)\n",
        "a = 0.9\n",
        "h_val = [0.1, 0.05, 0.02, 0.01, 0.005, 0.002, 0.001]\n",
        "exact_val = np.cos(a)\n",
        "for h in h_val:\n",
        "    val = three_point_mid(f,a,h)\n",
        "    print('Three-Point Midpoint: {}\\t error: {}'.format(val, np.abs(val - np.cos(0.9))))"
      ]
    },
    {
      "cell_type": "markdown",
      "id": "60005610",
      "metadata": {
        "id": "60005610"
      },
      "source": [
        "ans\n",
        "```\n",
        "Three-Point Midpoint: 0.6205744695418686\t error: 0.001035498728795936\n",
        "Three-Point Midpoint: 0.6213509964908115\t error: 0.00025897177985301223\n",
        "Three-Point Midpoint: 0.6215685284349182\t error: 4.143983574633747e-05\n",
        "Three-Point Midpoint: 0.6215996081563258\t error: 1.0360114338747728e-05\n",
        "Three-Point Midpoint: 0.6216073782323583\t error: 2.590038306160558e-06\n",
        "Three-Point Midpoint: 0.6216095538640887\t error: 4.1440657583269314e-07\n",
        "Three-Point Midpoint: 0.621609864669026\t error: 1.0360163849032489e-07\n",
        "```"
      ]
    },
    {
      "cell_type": "markdown",
      "id": "709f4d80",
      "metadata": {
        "id": "709f4d80"
      },
      "source": [
        "#### 5 decimal"
      ]
    },
    {
      "cell_type": "markdown",
      "id": "5f089acb",
      "metadata": {
        "id": "5f089acb"
      },
      "source": [
        "### Q3: Write the appropriate code for the 'None' position.\n",
        "(Note: this result is accurate within 5 decimal places.)"
      ]
    },
    {
      "cell_type": "code",
      "execution_count": null,
      "id": "776db5f7",
      "metadata": {
        "id": "776db5f7"
      },
      "outputs": [],
      "source": [
        "def three_point_mid_5decimal(f,a,h):\n",
        "    val = None\n",
        "    return val"
      ]
    },
    {
      "cell_type": "code",
      "execution_count": null,
      "id": "02eeaf3e",
      "metadata": {
        "id": "02eeaf3e"
      },
      "outputs": [],
      "source": [
        "f = lambda x: np.sin(x)\n",
        "a = 0.9\n",
        "h_val = [0.1, 0.05, 0.02, 0.01, 0.005, 0.002, 0.001]\n",
        "exact_val = np.cos(a)\n",
        "for h in h_val:\n",
        "    val = three_point_mid_5decimal(f,a,h)\n",
        "    print('Three-Point Midpoint: {}\\t error: {}'.format(val, np.abs(val - np.cos(0.9))))"
      ]
    },
    {
      "cell_type": "markdown",
      "id": "e2060ee8",
      "metadata": {
        "id": "e2060ee8"
      },
      "source": [
        "ans\n",
        "```\n",
        "Three-Point Midpoint: 0.62055\t error: 0.0010599682706644575\n",
        "Three-Point Midpoint: 0.6214\t error: 0.00020996827066455115\n",
        "Three-Point Midpoint: 0.6215\t error: 0.00010996827066445114\n",
        "Three-Point Midpoint: 0.6215\t error: 0.00010996827066445114\n",
        "Three-Point Midpoint: 0.622\t error: 0.0003900317293354938\n",
        "Three-Point Midpoint: 0.6225\t error: 0.0008900317293355497\n",
        "Three-Point Midpoint: 0.625\t error: 0.0033900317293354965\n",
        "```"
      ]
    },
    {
      "cell_type": "markdown",
      "id": "15c39963",
      "metadata": {
        "id": "15c39963"
      },
      "source": [
        "<br>\n",
        "<br>\n",
        "<br>\n",
        "\n",
        "## 4.4 Composite Numerical Integration"
      ]
    },
    {
      "cell_type": "markdown",
      "id": "de1b867f",
      "metadata": {
        "id": "de1b867f"
      },
      "source": [
        "### Composite Simpson's Rule\n",
        "#### Theorem 4.4\n",
        "Let $f\\in C^4[a, b]$, $n$ be even, $h = (b-a)/n$, and $x_j = a + j h$, for each $j = 0,\\ 1,\\ \\cdots,\\ n$. There exists a $\\mu \\in (a, b)$\t for which the Composite Simpson's rule for $n$ subintervals can be written with its error term as\n",
        "$$\\int_a^b f(x)\\ dx = \\frac{h}{3}\\left[f(x_0) +  2 \\sum_{j=1}^{(n/2)-1} f(x_{2j}) + 4 \\sum_{j=1}^{n/2} f(x_{2j-1}) + f(x_{n})\\right] - \\frac{(b - a)}{180}h^4 f^{(4)}(\\mu).$$"
      ]
    },
    {
      "cell_type": "markdown",
      "id": "0fac057e",
      "metadata": {
        "id": "0fac057e"
      },
      "source": [
        "#### Pseudo Code\n",
        "<img src=\"https://github.com/dw-shin/numerical_analysis/blob/main/figures/composite_simpson.png?raw=true\" width=\"900\"/>"
      ]
    },
    {
      "cell_type": "markdown",
      "id": "f4d38364",
      "metadata": {
        "id": "f4d38364"
      },
      "source": [
        "### Q4: Write the appropriate code for the 'None' position."
      ]
    },
    {
      "cell_type": "code",
      "execution_count": null,
      "id": "17d2ed7c",
      "metadata": {
        "id": "17d2ed7c"
      },
      "outputs": [],
      "source": [
        "def composite_simpson(f,a,b,n):\n",
        "    # Step 1\n",
        "    h = None\n",
        "    # Step 2\n",
        "    XI0 = None\n",
        "    XI1 = None\n",
        "    XI2 = None\n",
        "    # Step 3\n",
        "    for i in range(1,n):\n",
        "        # Step 4\n",
        "        X = None\n",
        "        # Step 5\n",
        "        if i%2 == 0:\n",
        "            XI2 += None\n",
        "        else:\n",
        "            XI1 += None\n",
        "    # Step 6\n",
        "    XI = None\n",
        "    return XI"
      ]
    },
    {
      "cell_type": "markdown",
      "id": "f8af0541",
      "metadata": {
        "id": "f8af0541"
      },
      "source": [
        "### Example\n",
        "Approximate $\\displaystyle \\int_0^{\\pi} \\sin x\\ dx$ with $n = 4,\\ 8,\\ 12,\\ 16,$ and $20$."
      ]
    },
    {
      "cell_type": "code",
      "execution_count": null,
      "id": "426653fe",
      "metadata": {
        "id": "426653fe"
      },
      "outputs": [],
      "source": [
        "f = lambda x: np.sin(x)\n",
        "nI = [4,8,12,16,20]\n",
        "a = 0\n",
        "b = np.pi\n",
        "I = 2\n",
        "for n in nI:\n",
        "    XI = composite_simpson(f,a,b,n)\n",
        "    print(\"Composite Simpson's Rule: {}\\t error: {}\".format(XI, np.abs(XI - I)))"
      ]
    },
    {
      "cell_type": "markdown",
      "id": "bd449a28",
      "metadata": {
        "id": "bd449a28"
      },
      "source": [
        "ans\n",
        "```\n",
        "Composite Simpson's Rule: 2.0045597549844207\t error: 0.0045597549844207386\n",
        "Composite Simpson's Rule: 2.0002691699483877\t error: 0.00026916994838765973\n",
        "Composite Simpson's Rule: 2.0000526243411856\t error: 5.26243411855809e-05\n",
        "Composite Simpson's Rule: 2.0000165910479355\t error: 1.6591047935499148e-05\n",
        "Composite Simpson's Rule: 2.0000067844418012\t error: 6.7844418012441565e-06\n",
        "```"
      ]
    },
    {
      "cell_type": "markdown",
      "id": "a727bded",
      "metadata": {
        "id": "a727bded"
      },
      "source": [
        "### Composite Trapezoidal Rule\n",
        "#### Theorem 4.5\n",
        "Let $f\\in C^2[a, b]$, $h = (b-a)/n$, and $x_j = a + j h$, for each $j = 0,\\ 1,\\ \\cdots,\\ n$. There exists a $\\mu \\in (a, b)$ for which the Composite Trapezoidal rule for $n$ subintervals can be written with its error term as\n",
        "$$\\int_a^b f(x)\\ dx = \\frac{h}{2}\\left[f(a) +  2 \\sum_{j=1}^{n-1} f(x_{j}) + f(b)\\right] - \\frac{(b - a)}{12}h^2 f''(\\mu).$$"
      ]
    },
    {
      "cell_type": "markdown",
      "id": "4dc4fcfb",
      "metadata": {
        "id": "4dc4fcfb"
      },
      "source": [
        "### Q5: Write the appropriate code for the 'None' position."
      ]
    },
    {
      "cell_type": "code",
      "execution_count": null,
      "id": "f43e6729",
      "metadata": {
        "id": "f43e6729"
      },
      "outputs": [],
      "source": [
        "def composite_trapezoid(f,a,b,n):\n",
        "    h = None\n",
        "    XI0 = None\n",
        "    XI1 = None\n",
        "    for i in range(1,n):\n",
        "        X = None\n",
        "        XI1 += None\n",
        "    XI = None\n",
        "    return XI"
      ]
    },
    {
      "cell_type": "markdown",
      "id": "5cfaeefc",
      "metadata": {
        "id": "5cfaeefc"
      },
      "source": [
        "### Example\n",
        "Approximate $\\displaystyle \\int_0^{\\pi} \\sin x\\ dx$ with $n = 20,\\ 40,\\ 60,\\ 80,$ and $100$."
      ]
    },
    {
      "cell_type": "code",
      "execution_count": null,
      "id": "ce6b1686",
      "metadata": {
        "id": "ce6b1686"
      },
      "outputs": [],
      "source": [
        "f = lambda x: np.sin(x)\n",
        "nI = [20,40,60,80,100]\n",
        "a = 0\n",
        "b = np.pi\n",
        "I = 2\n",
        "for n in nI:\n",
        "    XI = composite_trapezoid(f,a,b,n)\n",
        "    print(\"Composite Trapezoidal Rule: {}\\t error: {}\".format(XI, np.abs(XI - I)))"
      ]
    },
    {
      "cell_type": "markdown",
      "id": "cddffaf6",
      "metadata": {
        "id": "cddffaf6"
      },
      "source": [
        "ans\n",
        "```\n",
        "Composite Trapezoidal Rule: 1.995885972708715\t error: 0.004114027291284961\n",
        "Composite Trapezoidal Rule: 1.9989718104970655\t error: 0.0010281895029344845\n",
        "Composite Trapezoidal Rule: 1.9995430529908076\t error: 0.00045694700919240994\n",
        "Composite Trapezoidal Rule: 1.9997429724458353\t error: 0.00025702755416467937\n",
        "Composite Trapezoidal Rule: 1.9998355038874436\t error: 0.0001644961125564226\n",
        "```"
      ]
    },
    {
      "cell_type": "markdown",
      "id": "1e76d376",
      "metadata": {
        "id": "1e76d376"
      },
      "source": [
        "### Composite Midpoint Rule\n",
        "#### Theorem 4.6\n",
        "Let $f\\in C^2[a, b]$, $n$ be even, $h = (b-a)/(n+2)$, and $x_j = a + (j+1) h$, for each $j = -1,\\ 0,\\ \\cdots,\\ n+1$. There exists a $\\mu \\in (a, b)$ for which the Composite Midpoint rule for $n+2$ subintervals can be written with its error term as\n",
        "$$\\int_a^b f(x)\\ dx = 2 h \\sum_{j=0}^{n/2} f(x_{2j})+ \\frac{(b - a)}{6}h^2 f''(\\mu).$$"
      ]
    },
    {
      "cell_type": "markdown",
      "id": "96344d53",
      "metadata": {
        "id": "96344d53"
      },
      "source": [
        "### Q6: Write the appropriate code for the 'None' position."
      ]
    },
    {
      "cell_type": "code",
      "execution_count": null,
      "id": "e2a41981",
      "metadata": {
        "id": "e2a41981"
      },
      "outputs": [],
      "source": [
        "def composite_midpoint(f,a,b,n):\n",
        "    h = None\n",
        "    XI = None\n",
        "    for i in range(0,n//2):\n",
        "        X = None\n",
        "        XI += None\n",
        "    XI *= None\n",
        "    return XI"
      ]
    },
    {
      "cell_type": "markdown",
      "id": "6f736182",
      "metadata": {
        "id": "6f736182"
      },
      "source": [
        "### Example\n",
        "Approximate $\\displaystyle \\int_0^{\\pi} \\sin x\\ dx$ with $n = 40,\\ 80,\\ 120,\\ 160,$ and $200$."
      ]
    },
    {
      "cell_type": "code",
      "execution_count": null,
      "id": "00a8ef2b",
      "metadata": {
        "id": "00a8ef2b"
      },
      "outputs": [],
      "source": [
        "f = lambda x: np.sin(x)\n",
        "nI = [40,80,120,160,200]\n",
        "a = 0\n",
        "b = np.pi\n",
        "I = 2\n",
        "for n in nI:\n",
        "    XI = composite_midpoint(f,a,b,n)\n",
        "    print(\"Composite Midpoint Rule: {}\\t error: {}\".format(XI, np.abs(XI - I)))"
      ]
    },
    {
      "cell_type": "markdown",
      "id": "15d5a7c2",
      "metadata": {
        "id": "15d5a7c2"
      },
      "source": [
        "ans\n",
        "```\n",
        "Composite Midpoint Rule: 1.9962685987394633\t error: 0.0037314012605367264\n",
        "Composite Midpoint Rule: 1.9990213592780808\t error: 0.0009786407219192217\n",
        "Composite Midpoint Rule: 1.9995579127146819\t error: 0.0004420872853181379\n",
        "Composite Midpoint Rule: 1.999749279788277\t error: 0.00025072021172301007\n",
        "Composite Midpoint Rule: 1.9998387451629855\t error: 0.0001612548370144573\n",
        "```"
      ]
    },
    {
      "cell_type": "markdown",
      "id": "9d6d0f0a",
      "metadata": {
        "id": "9d6d0f0a"
      },
      "source": [
        "<br>\n",
        "<br>\n",
        "<br>\n",
        "\n",
        "## 4.7 Gaussian Quadrature\n",
        "\n",
        "<img src=\"https://github.com/dw-shin/numerical_analysis/blob/main/figures/gaussian_quadrature.png?raw=true\" width=\"500\"/>\n",
        "<br>\n",
        "\n",
        "An integral $\\int^b_a f(x)\\ dx$ over an arbitrary $[a, b]$ can be transformed into an integral over $[-1, 1]$ by using the change of variables:\n",
        "$$t = \\frac{2x - a - b}{b - a} \\quad \\Longleftrightarrow \\quad x = \\frac{1}{2}[(b-a)t + a + b].$$\n",
        "<br>\n",
        "This permits Gaussian quadrature to be applied to any interval $[a, b]$, because\n",
        "$$\\int_a^b f(x)\\ dx = \\int_{-1}^1 f\\left(\\frac{(b-a)t + (b+a)}{2}\\right) \\frac{(b-a)}{2}\\ dt.$$"
      ]
    },
    {
      "cell_type": "markdown",
      "id": "89ed444e",
      "metadata": {
        "id": "89ed444e"
      },
      "source": [
        "### Q6: Write the appropriate code for the 'None' position."
      ]
    },
    {
      "cell_type": "code",
      "execution_count": null,
      "id": "5719b776",
      "metadata": {
        "id": "5719b776"
      },
      "outputs": [],
      "source": [
        "def gaussian_quadrature(a,b,n,f):\n",
        "    if n == 1:\n",
        "        r = np.array([0.])\n",
        "        c = np.array([2.])\n",
        "    elif n == 2:\n",
        "        r = np.array([-0.5773502692, 0.5773502692])\n",
        "        c = np.array([1., 1.])\n",
        "    elif n == 3:\n",
        "        r = np.array([-0.7745966692, 0., 0.7745966692])\n",
        "        c = np.array([0.5555555556, 0.8888888889, 0.5555555556])\n",
        "    elif n == 4:\n",
        "        r = np.array([-0.8611363116, -0.3399810436, 0.3399810436, 0.8611363116])\n",
        "        c = np.array([0.3478548451, 0.6521451549, 0.3478548451, 0.6521451549])\n",
        "    elif n == 5:\n",
        "        r = np.array([-0.9061798459, -0.5384693101, 0., 0.5384693101, 0.9061798459])\n",
        "        c = np.array([0.2369268850, 0.4786286705, 0.5688888889, 0.4786286705, 0.2369268850])\n",
        "    else:\n",
        "        print('n = 1, 2, 3, 4, 5')\n",
        "        return\n",
        "    x = None\n",
        "    val = None\n",
        "    for i in range(n):\n",
        "        val += None\n",
        "    return val"
      ]
    },
    {
      "cell_type": "markdown",
      "id": "cc1045df",
      "metadata": {
        "id": "cc1045df"
      },
      "source": [
        "### Example 2\n",
        "Consider the integral $\\int_1^3 x^6 - x^2\\sin(2x)\\ dx = 317.3442466.$"
      ]
    },
    {
      "cell_type": "code",
      "execution_count": null,
      "id": "f5895c7c",
      "metadata": {
        "id": "f5895c7c"
      },
      "outputs": [],
      "source": [
        "f = lambda x: x**6 - x**2 * np.sin(2*x)\n",
        "val = gaussian_quadrature(1,3,2,f)\n",
        "print(val)"
      ]
    },
    {
      "cell_type": "markdown",
      "id": "c32283e2",
      "metadata": {
        "id": "c32283e2"
      },
      "source": [
        "ans\n",
        "```\n",
        "306.8199345025939\n",
        "```"
      ]
    }
  ],
  "metadata": {
    "kernelspec": {
      "display_name": "Python 3",
      "language": "python",
      "name": "python3"
    },
    "language_info": {
      "codemirror_mode": {
        "name": "ipython",
        "version": 3
      },
      "file_extension": ".py",
      "mimetype": "text/x-python",
      "name": "python",
      "nbconvert_exporter": "python",
      "pygments_lexer": "ipython3",
      "version": "3.9.5"
    },
    "colab": {
      "provenance": [],
      "include_colab_link": true
    }
  },
  "nbformat": 4,
  "nbformat_minor": 5
}