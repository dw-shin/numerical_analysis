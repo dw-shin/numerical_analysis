{
  "cells": [
    {
      "cell_type": "markdown",
      "metadata": {
        "id": "view-in-github",
        "colab_type": "text"
      },
      "source": [
        "<a href=\"https://colab.research.google.com/github/dw-shin/numerical_analysis/blob/main/chapter06.ipynb\" target=\"_parent\"><img src=\"https://colab.research.google.com/assets/colab-badge.svg\" alt=\"Open In Colab\"/></a>"
      ]
    },
    {
      "cell_type": "code",
      "execution_count": null,
      "id": "e23ee769",
      "metadata": {
        "id": "e23ee769"
      },
      "outputs": [],
      "source": [
        "import numpy as np"
      ]
    },
    {
      "cell_type": "markdown",
      "id": "7de6fcf2",
      "metadata": {
        "id": "7de6fcf2"
      },
      "source": [
        "# Chapter 6. Direct Methods for Solving Linear Systems\n",
        "## 6.5 Matrix Factorization"
      ]
    },
    {
      "cell_type": "markdown",
      "id": "8925cd58",
      "metadata": {
        "id": "8925cd58"
      },
      "source": [
        "### LU Factorization\n",
        "#### Pseudocode\n",
        "<img src=\"https://github.com/dw-shin/numerical_analysis/blob/main/figures/lu1.png?raw=true\" width=\"700\"/>\n",
        "<img src=\"https://github.com/dw-shin/numerical_analysis/blob/main/figures/lu2.png?raw=true\" width=\"700\"/>"
      ]
    },
    {
      "cell_type": "markdown",
      "id": "f917f84c",
      "metadata": {
        "id": "f917f84c"
      },
      "source": [
        "### Q1: Write the appropriate code for the 'None' position."
      ]
    },
    {
      "cell_type": "code",
      "execution_count": null,
      "id": "d618fb53",
      "metadata": {
        "id": "d618fb53"
      },
      "outputs": [],
      "source": [
        "def lu(A):\n",
        "    n = None\n",
        "    L = None\n",
        "    U = None\n",
        "    for i in range(n):\n",
        "        L[i,i] = None\n",
        "\n",
        "    # Step 1\n",
        "    U[0,0] = None\n",
        "    if U[0,0]==0:\n",
        "        print('Factorization impossible')\n",
        "        return\n",
        "\n",
        "    # Step 2\n",
        "    for i in range(1,n):\n",
        "        U[0,i] = None\n",
        "        L[i,0] = None\n",
        "\n",
        "    # Step 3\n",
        "    for i in range(1,n-1):\n",
        "        U[i,i] = None\n",
        "        if U[i,i] == 0:\n",
        "            print('Factorization impossible')\n",
        "            return\n",
        "\n",
        "        # Step 4\n",
        "        for j in range(i+1,n):\n",
        "            U[i,j] = None\n",
        "            L[j,i] = None\n",
        "\n",
        "    # Step 5\n",
        "    U[-1,-1] = None\n",
        "    return (L, U)"
      ]
    },
    {
      "cell_type": "code",
      "execution_count": null,
      "id": "bfc99625",
      "metadata": {
        "id": "bfc99625"
      },
      "outputs": [],
      "source": [
        "A = np.array([[1., 1., 0., 3], [2., 1., -1., 1.], [3., -1., -1., 2.], [-1., 2., 3., -1.]])\n",
        "L, U = lu(A)"
      ]
    },
    {
      "cell_type": "code",
      "execution_count": null,
      "id": "b206f676",
      "metadata": {
        "id": "b206f676"
      },
      "outputs": [],
      "source": [
        "print('L=')\n",
        "print(L)\n",
        "print()\n",
        "print('U=')\n",
        "print(U)"
      ]
    },
    {
      "cell_type": "markdown",
      "id": "fad349c1",
      "metadata": {
        "id": "fad349c1"
      },
      "source": [
        "```\n",
        "ans\n",
        "\n",
        "L=\n",
        "[[ 1.  0.  0.  0.]\n",
        " [ 2.  1.  0.  0.]\n",
        " [ 3.  4.  1.  0.]\n",
        " [-1. -3.  0.  1.]]\n",
        "\n",
        "U=\n",
        "[[  1.   1.   0.   3.]\n",
        " [  0.  -1.  -1.  -5.]\n",
        " [  0.   0.   3.  13.]\n",
        " [  0.   0.   0. -13.]]\n",
        " ```"
      ]
    },
    {
      "cell_type": "markdown",
      "id": "a65c37fd",
      "metadata": {
        "id": "a65c37fd"
      },
      "source": [
        "Once the matrix factorization is complete,\n",
        "\n",
        "$$A\\boldsymbol{x} = L U \\boldsymbol{x} =  \\boldsymbol{b} \\qquad \\Rightarrow \\qquad L\\boldsymbol{y} = \\boldsymbol{b}\\quad \\text{where}\\quad \\boldsymbol{y} = U\\boldsymbol{x}$$\n",
        "<br>\n",
        "\n",
        "Since $L$ is lower triangular, we have $y_1 =\n",
        "\\frac{b_1}{l_{11}}$ and, for each $i = 2, 3, \\cdots, n,$\n",
        "\n",
        "$$y_i = \\frac{1}{l_{ii}}\\left[b_i - \\sum^{i-1}_{j=1} l_{ij}y_j\\right]$$\n",
        "<br>\n",
        "\n",
        "Back-substitution for solving $U\\boldsymbol{x} = \\boldsymbol{y}$\n",
        "\n",
        "$$x_n = \\frac{y_n}{u_{nn}} \\qquad \\text{and} \\qquad x_i = \\frac{1}{u_{ii}}\\left[y_i - \\sum_{j = i+1}^n u_{ij} x_j\\right]$$"
      ]
    },
    {
      "cell_type": "markdown",
      "id": "4ff63362",
      "metadata": {
        "id": "4ff63362"
      },
      "source": [
        "### Q2: Write the appropriate code for the 'None' position."
      ]
    },
    {
      "cell_type": "code",
      "execution_count": null,
      "id": "2cc4a1e9",
      "metadata": {
        "id": "2cc4a1e9"
      },
      "outputs": [],
      "source": [
        "def lu_solve(A,b):\n",
        "    L, U = lu(A)\n",
        "    x = None\n",
        "    y = None\n",
        "    n = None\n",
        "    y[0] = None\n",
        "    for i in range(1,n):\n",
        "        y[i] = None\n",
        "\n",
        "    x[-1] = None\n",
        "    for i in reversed(range(0,n-1)):\n",
        "        x[i] = None\n",
        "    return x"
      ]
    },
    {
      "cell_type": "code",
      "execution_count": null,
      "id": "49912494",
      "metadata": {
        "id": "49912494"
      },
      "outputs": [],
      "source": [
        "b = np.array([8., 7., 14., -7.])\n",
        "x = lu_solve(A,b)"
      ]
    },
    {
      "cell_type": "code",
      "execution_count": null,
      "id": "438e0891",
      "metadata": {
        "id": "438e0891"
      },
      "outputs": [],
      "source": [
        "print(x)"
      ]
    },
    {
      "cell_type": "markdown",
      "id": "162906dc",
      "metadata": {
        "id": "162906dc"
      },
      "source": [
        "```\n",
        "ans\n",
        "\n",
        "[ 3. -1.  0.  2.]\n",
        "```"
      ]
    },
    {
      "cell_type": "markdown",
      "id": "e6891447",
      "metadata": {
        "id": "e6891447"
      },
      "source": [
        "## Reduced Form (Optional)\n",
        "\n",
        "$$(A)_{ij} = \\left\\{\\begin{array}{rl}\n",
        "(L)_{ij} &\\qquad \\text{if}\\quad i > j \\\\\n",
        "(U)_{ij} &\\qquad \\text{if}\\quad i \\le j\\end{array}\\right.$$"
      ]
    },
    {
      "cell_type": "markdown",
      "id": "646f38e9",
      "metadata": {
        "id": "646f38e9"
      },
      "source": [
        "### Q3: Write the appropriate code for the 'None' position."
      ]
    },
    {
      "cell_type": "code",
      "execution_count": null,
      "id": "8b71fb5f",
      "metadata": {
        "id": "8b71fb5f"
      },
      "outputs": [],
      "source": [
        "def lu_reduced(A):\n",
        "    n = None\n",
        "\n",
        "    if A[0,0]==0:\n",
        "        print('Factorization impossible')\n",
        "        return\n",
        "\n",
        "    # Step 2\n",
        "    for i in range(1,n):\n",
        "        A[i,0] = None\n",
        "\n",
        "    # Step 3\n",
        "    for i in range(1,n-1):\n",
        "        A[i,i] = None\n",
        "        if A[i,i] == 0:\n",
        "            print('Factorization impossible')\n",
        "            return\n",
        "\n",
        "        # Step 4\n",
        "        for j in range(i+1,n):\n",
        "            A[i,j] = None\n",
        "            A[j,i] = None\n",
        "\n",
        "    # Step 5\n",
        "    A[-1,-1] = None\n",
        "    return A"
      ]
    },
    {
      "cell_type": "code",
      "execution_count": null,
      "id": "9801d152",
      "metadata": {
        "id": "9801d152"
      },
      "outputs": [],
      "source": [
        "B = lu_reduced(A)"
      ]
    },
    {
      "cell_type": "code",
      "execution_count": null,
      "id": "15790b1a",
      "metadata": {
        "id": "15790b1a"
      },
      "outputs": [],
      "source": [
        "print('B =')\n",
        "print(B)"
      ]
    },
    {
      "cell_type": "markdown",
      "id": "065a1706",
      "metadata": {
        "id": "065a1706"
      },
      "source": [
        "```\n",
        "ans\n",
        "\n",
        "B =\n",
        "[[  1.   1.   0.   3.]\n",
        " [  2.  -1.  -1.  -5.]\n",
        " [  3.   4.   3.  13.]\n",
        " [ -1.  -3.   0. -13.]]\n",
        " ```"
      ]
    },
    {
      "cell_type": "markdown",
      "id": "5debd94f",
      "metadata": {
        "id": "5debd94f"
      },
      "source": [
        "### Q4: Write the appropriate code for the 'None' position."
      ]
    },
    {
      "cell_type": "code",
      "execution_count": null,
      "id": "5805d412",
      "metadata": {
        "id": "5805d412"
      },
      "outputs": [],
      "source": [
        "def lu_solve_reduced(A,b):\n",
        "    A = lu_reduced(A)\n",
        "    n = None\n",
        "    for i in range(1,n):\n",
        "        b[i] = None\n",
        "\n",
        "    b[-1] = None\n",
        "    for i in reversed(range(0,n-1)):\n",
        "        b[i] = None\n",
        "    return b"
      ]
    },
    {
      "cell_type": "code",
      "execution_count": null,
      "id": "af31c0b4",
      "metadata": {
        "id": "af31c0b4"
      },
      "outputs": [],
      "source": [
        "A = np.array([[1., 1., 0., 3], [2., 1., -1., 1.], [3., -1., -1., 2.], [-1., 2., 3., -1.]])\n",
        "b = np.array([8., 7., 14., -7.])\n",
        "x = lu_solve_reduced(A,b)"
      ]
    },
    {
      "cell_type": "code",
      "execution_count": null,
      "id": "dc51ff41",
      "metadata": {
        "id": "dc51ff41"
      },
      "outputs": [],
      "source": [
        "print(x)"
      ]
    },
    {
      "cell_type": "markdown",
      "id": "223725d1",
      "metadata": {
        "id": "223725d1"
      },
      "source": [
        "```\n",
        "ans\n",
        "\n",
        "[ 3. -1.  0.  2.]\n",
        "```"
      ]
    },
    {
      "cell_type": "code",
      "execution_count": null,
      "id": "7a96928e",
      "metadata": {
        "id": "7a96928e"
      },
      "outputs": [],
      "source": []
    }
  ],
  "metadata": {
    "kernelspec": {
      "display_name": "Python 3",
      "language": "python",
      "name": "python3"
    },
    "language_info": {
      "codemirror_mode": {
        "name": "ipython",
        "version": 3
      },
      "file_extension": ".py",
      "mimetype": "text/x-python",
      "name": "python",
      "nbconvert_exporter": "python",
      "pygments_lexer": "ipython3",
      "version": "3.9.5"
    },
    "colab": {
      "provenance": [],
      "include_colab_link": true
    }
  },
  "nbformat": 4,
  "nbformat_minor": 5
}