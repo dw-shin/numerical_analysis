{
  "cells": [
    {
      "cell_type": "markdown",
      "metadata": {
        "id": "view-in-github",
        "colab_type": "text"
      },
      "source": [
        "<a href=\"https://colab.research.google.com/github/dw-shin/numerical_analysis/blob/main/chapter05.ipynb\" target=\"_parent\"><img src=\"https://colab.research.google.com/assets/colab-badge.svg\" alt=\"Open In Colab\"/></a>"
      ]
    },
    {
      "cell_type": "code",
      "execution_count": null,
      "id": "ea861c3f",
      "metadata": {
        "id": "ea861c3f"
      },
      "outputs": [],
      "source": [
        "import numpy as np"
      ]
    },
    {
      "cell_type": "markdown",
      "id": "63ad0828",
      "metadata": {
        "id": "63ad0828"
      },
      "source": [
        "# Chapter 5. Initial-Value Problems for Ordinary Differential Equations\n",
        "## 5.2 Euler's Method\n",
        "\n",
        "Euler's method constructs $w_i \\approx y(t_i)$, for each $i = 1,\\ 2,\\ \\cdots,\\ N$, by deleting the remainder term. Thus Euler's method is\n",
        "\n",
        "\\begin{align*}\n",
        "\tw_0 &= \\alpha \\\\\n",
        "\tw_{i+1} &= w_i + h f(t_i, w_i),\\qquad \\text{for each}\\quad i = 0,\\ 1,\\ \\cdots,\\ N - 1\n",
        "\\end{align*}"
      ]
    },
    {
      "cell_type": "markdown",
      "id": "63328d64",
      "metadata": {
        "id": "63328d64"
      },
      "source": [
        "### Illustration\n",
        "Prior to introducing an algorithm for Euler's Method, we will illustrate the steps in the technique to approximate the solution to\n",
        "\n",
        "$$y' = y - t^2 + 1,\\qquad 0 \\le t \\le 2,\\qquad y(0) = 0.5$$\n",
        "\n",
        "at $t = 2$, using a step size of $h = 0.5.$"
      ]
    },
    {
      "cell_type": "markdown",
      "id": "2e1c1702",
      "metadata": {
        "id": "2e1c1702"
      },
      "source": [
        "### Q1: Write the appropriate code for the 'None' position.\n",
        "(Hint: See Euler's Method)"
      ]
    },
    {
      "cell_type": "code",
      "execution_count": null,
      "id": "251b725c",
      "metadata": {
        "id": "251b725c"
      },
      "outputs": [],
      "source": [
        "f = lambda y, t: y - t**2 + 1\n",
        "w_0 = 0.5\n",
        "h = 0.5\n",
        "t = 0\n",
        "iter_num = 4\n",
        "for j in range(iter_num):\n",
        "    w_0 += None\n",
        "    t += h\n",
        "    print('w_{} = {}'.format(j+1,w_0))"
      ]
    },
    {
      "cell_type": "markdown",
      "id": "eec9c26b",
      "metadata": {
        "id": "eec9c26b"
      },
      "source": [
        "```\n",
        "ans\n",
        "\n",
        "w_1 = 1.25\n",
        "w_2 = 2.25\n",
        "w_3 = 3.375\n",
        "w_4 = 4.4375\n",
        "```"
      ]
    },
    {
      "cell_type": "markdown",
      "id": "912d399f",
      "metadata": {
        "id": "912d399f"
      },
      "source": [
        "#### Pseudo Code\n",
        "<img src=\"https://github.com/dw-shin/numerical_analysis/blob/main/figures/euler.png?raw=true.\\\" width=\"700\"/>"
      ]
    },
    {
      "cell_type": "markdown",
      "id": "4076a83a",
      "metadata": {
        "id": "4076a83a"
      },
      "source": [
        "### Q2: Write the appropriate code for the 'None' position."
      ]
    },
    {
      "cell_type": "code",
      "execution_count": null,
      "id": "3e2f661f",
      "metadata": {
        "id": "3e2f661f"
      },
      "outputs": [],
      "source": [
        "def euler(a,b,n,f,w_0):\n",
        "    t = None\n",
        "    h = None\n",
        "    for j in range(n):\n",
        "        w_0 += None\n",
        "        t += h\n",
        "        print('w_{} = {:.7f}'.format(j+1,w_0))\n",
        "    return w_0"
      ]
    },
    {
      "cell_type": "markdown",
      "id": "518d4df8",
      "metadata": {
        "id": "518d4df8"
      },
      "source": [
        "### Example 1\n",
        "Euler's method was used in the first illustration with $h = 0.5$ to approximate the solution to the initial-value problem\n",
        "\n",
        "$$y  = y - t^2 + 1,\\qquad 0 \\le t \\le 2,\\qquad y(0) = 0.5.$$\n",
        "\n",
        "Use Algorithm 5.1 with $N = 10$ to determine approximations, and compare these with the exact values given by $y(t) = (t + 1)^2 - 0.5 e^t$."
      ]
    },
    {
      "cell_type": "code",
      "execution_count": null,
      "id": "acea79c2",
      "metadata": {
        "id": "acea79c2"
      },
      "outputs": [],
      "source": [
        "euler(0,2,10,f,0.5)"
      ]
    },
    {
      "cell_type": "markdown",
      "id": "16e7f264",
      "metadata": {
        "id": "16e7f264"
      },
      "source": [
        "```\n",
        "ans\n",
        "\n",
        "w_1 = 0.8000000\n",
        "w_2 = 1.1520000\n",
        "w_3 = 1.5504000\n",
        "w_4 = 1.9884800\n",
        "w_5 = 2.4581760\n",
        "w_6 = 2.9498112\n",
        "w_7 = 3.4517734\n",
        "w_8 = 3.9501281\n",
        "w_9 = 4.4281538\n",
        "w_10 = 4.8657845\n",
        "\n",
        "Out[4]:  4.865784504320001\n",
        "```"
      ]
    },
    {
      "cell_type": "markdown",
      "id": "c8833fa6",
      "metadata": {
        "id": "c8833fa6"
      },
      "source": [
        "#### Error"
      ]
    },
    {
      "cell_type": "markdown",
      "id": "930b10ee",
      "metadata": {
        "id": "930b10ee"
      },
      "source": [
        "### Q3: Write the appropriate code for the 'None' position."
      ]
    },
    {
      "cell_type": "code",
      "execution_count": null,
      "id": "3b1c6b8f",
      "metadata": {
        "id": "3b1c6b8f"
      },
      "outputs": [],
      "source": [
        "y_exact = lambda t: (t+1)**2 - 0.5*np.exp(t)\n",
        "f = lambda y, t: y - t**2 + 1\n",
        "w_0 = 0.5\n",
        "t = None\n",
        "n = None\n",
        "h = None\n",
        "for j in range(n):\n",
        "    w_0 += None\n",
        "    t += h\n",
        "    error = None\n",
        "    print('|y_{} - w_{}| = {:.7f}'.format(j+1,j+1,error))"
      ]
    },
    {
      "cell_type": "markdown",
      "id": "361f6023",
      "metadata": {
        "id": "361f6023"
      },
      "source": [
        "```\n",
        "ans\n",
        "\n",
        "|y_1 - w_1| = 0.0292986\n",
        "|y_2 - w_2| = 0.0620877\n",
        "|y_3 - w_3| = 0.0985406\n",
        "|y_4 - w_4| = 0.1387495\n",
        "|y_5 - w_5| = 0.1826831\n",
        "|y_6 - w_6| = 0.2301303\n",
        "|y_7 - w_7| = 0.2806266\n",
        "|y_8 - w_8| = 0.3333557\n",
        "|y_9 - w_9| = 0.3870225\n",
        "|y_10 - w_10| = 0.4396874\n",
        "```"
      ]
    },
    {
      "cell_type": "markdown",
      "id": "f2ed4bf3",
      "metadata": {
        "id": "f2ed4bf3"
      },
      "source": [
        "### Example 2\n",
        "The solution to the initial-value problem\n",
        "\n",
        "$$y' = y - t^2 + 1,\\qquad 0 \\le t \\le 2,\\qquad y(0) = 0.5,$$\n",
        "\n",
        "was approximated in Example 1 using Euler's method with $h = 0.2$. Use the inequality in Theorem 5.9 to find a bounds for the approximation errors and compare these to the actual errors."
      ]
    },
    {
      "cell_type": "markdown",
      "id": "f0436bf9",
      "metadata": {
        "id": "f0436bf9"
      },
      "source": [
        "### Q4: Write the appropriate code for the 'None' position."
      ]
    },
    {
      "cell_type": "code",
      "execution_count": null,
      "id": "c3754b7e",
      "metadata": {
        "id": "c3754b7e"
      },
      "outputs": [],
      "source": [
        "y_exact = lambda t: (t+1)**2 - 0.5*np.exp(t)\n",
        "f = lambda y, t: y - t**2 + 1\n",
        "w_0 = None\n",
        "t = None\n",
        "n = None\n",
        "h = None\n",
        "for j in range(n):\n",
        "    w_0 += None\n",
        "    t += None\n",
        "    error = None\n",
        "    error_bound = None\n",
        "    print('|y_{} - w_{}| = {:.5f}\\t Error Bound = {:.5f}'.format(j+1,j+1,error,error_bound))"
      ]
    },
    {
      "cell_type": "markdown",
      "id": "c9855f72",
      "metadata": {
        "id": "c9855f72"
      },
      "source": [
        "```\n",
        "ans\n",
        "\n",
        "|y_1 - w_1| = 0.02930\t Error Bound = 0.03752\n",
        "|y_2 - w_2| = 0.06209\t Error Bound = 0.08334\n",
        "|y_3 - w_3| = 0.09854\t Error Bound = 0.13931\n",
        "|y_4 - w_4| = 0.13875\t Error Bound = 0.20767\n",
        "|y_5 - w_5| = 0.18268\t Error Bound = 0.29117\n",
        "|y_6 - w_6| = 0.23013\t Error Bound = 0.39315\n",
        "|y_7 - w_7| = 0.28063\t Error Bound = 0.51771\n",
        "|y_8 - w_8| = 0.33336\t Error Bound = 0.66985\n",
        "|y_9 - w_9| = 0.38702\t Error Bound = 0.85568\n",
        "|y_10 - w_10| = 0.43969\t Error Bound = 1.08264\n",
        "```"
      ]
    },
    {
      "cell_type": "code",
      "execution_count": null,
      "id": "ef496e20",
      "metadata": {
        "id": "ef496e20"
      },
      "outputs": [],
      "source": []
    }
  ],
  "metadata": {
    "kernelspec": {
      "display_name": "Python 3",
      "language": "python",
      "name": "python3"
    },
    "language_info": {
      "codemirror_mode": {
        "name": "ipython",
        "version": 3
      },
      "file_extension": ".py",
      "mimetype": "text/x-python",
      "name": "python",
      "nbconvert_exporter": "python",
      "pygments_lexer": "ipython3",
      "version": "3.9.5"
    },
    "colab": {
      "provenance": [],
      "include_colab_link": true
    }
  },
  "nbformat": 4,
  "nbformat_minor": 5
}