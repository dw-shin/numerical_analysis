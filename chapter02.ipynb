{
  "cells": [
    {
      "cell_type": "markdown",
      "metadata": {
        "id": "view-in-github",
        "colab_type": "text"
      },
      "source": [
        "<a href=\"https://colab.research.google.com/github/dw-shin/numerical_analysis/blob/main/chapter02.ipynb\" target=\"_parent\"><img src=\"https://colab.research.google.com/assets/colab-badge.svg\" alt=\"Open In Colab\"/></a>"
      ]
    },
    {
      "cell_type": "markdown",
      "id": "5dee1b74",
      "metadata": {
        "id": "5dee1b74"
      },
      "source": [
        "# Chapter 2. Solutions of Equations in One Variable"
      ]
    },
    {
      "cell_type": "markdown",
      "id": "0313ed2e",
      "metadata": {
        "id": "0313ed2e"
      },
      "source": [
        "## 2.1 The Bisection Method"
      ]
    },
    {
      "cell_type": "markdown",
      "id": "4b439610",
      "metadata": {
        "id": "4b439610"
      },
      "source": [
        "<img src=\"https://github.com/dw-shin/numerical_analysis/blob/main/figures/bisection.png?raw=true\" width=\"900\"/>"
      ]
    },
    {
      "cell_type": "markdown",
      "id": "443a9fd9",
      "metadata": {
        "id": "443a9fd9"
      },
      "source": [
        "### Q1: Complete the following code."
      ]
    },
    {
      "cell_type": "code",
      "execution_count": null,
      "id": "a3289c13",
      "metadata": {
        "id": "a3289c13"
      },
      "outputs": [],
      "source": [
        "def bisection(a, b, TOL, N0, f):\n",
        "    # Step 1\n",
        "\n",
        "    while i <= N0: # Step 2\n",
        "        # Step 3\n",
        "\n",
        "        # Step 4\n",
        "        if FP == 0 or (b-a)/2 < TOL:\n",
        "            return p\n",
        "        # Step 5\n",
        "\n",
        "        # Step 6\n",
        "        if FA * FP > 0:\n",
        "\n",
        "        else:\n",
        "\n",
        "    print('Method failed after N0 iterations, N0 = {}'.format(N0))\n",
        "    return p"
      ]
    },
    {
      "cell_type": "markdown",
      "id": "dcdc3129",
      "metadata": {
        "id": "dcdc3129"
      },
      "source": [
        "### Example\n",
        "Show that $f(x) = x^3 + 4x^2 - 10 = 0$ has a root in $[1,2]$, and use the Bisection method to determine an approximation to the root that is accurate to at least within $10^{-4}$."
      ]
    },
    {
      "cell_type": "code",
      "execution_count": null,
      "id": "27fb73ea",
      "metadata": {
        "id": "27fb73ea"
      },
      "outputs": [],
      "source": [
        "f = lambda x: x**3 + 4*x**2 - 10\n",
        "a = 1\n",
        "b = 2\n",
        "N0 = 20\n",
        "TOL = 1e-4"
      ]
    },
    {
      "cell_type": "code",
      "execution_count": null,
      "id": "bd870946",
      "metadata": {
        "id": "bd870946"
      },
      "outputs": [],
      "source": [
        "p = bisection(a,b,TOL,N0,f)"
      ]
    },
    {
      "cell_type": "code",
      "execution_count": null,
      "id": "a9b79453",
      "metadata": {
        "id": "a9b79453"
      },
      "outputs": [],
      "source": [
        "print(p)"
      ]
    },
    {
      "cell_type": "markdown",
      "id": "bc13b743",
      "metadata": {
        "id": "bc13b743"
      },
      "source": [
        "ans <br>\n",
        "1.36517333984375"
      ]
    },
    {
      "cell_type": "markdown",
      "id": "035d9ef6",
      "metadata": {
        "id": "035d9ef6"
      },
      "source": [
        "#### Relative Error Test\n",
        "$$\\frac{|p_N - p_{N-1}|}{|p_N|} < 10^{-4}.$$"
      ]
    },
    {
      "cell_type": "markdown",
      "id": "c4435d4e",
      "metadata": {
        "id": "c4435d4e"
      },
      "source": [
        "### Q2: Complete the following code."
      ]
    },
    {
      "cell_type": "code",
      "execution_count": null,
      "id": "9d474954",
      "metadata": {
        "id": "9d474954"
      },
      "outputs": [],
      "source": [
        "import numpy as np\n",
        "\n",
        "def bisection_relative_error_test(a, b, TOL, N0, f):\n",
        "    # Step 1\n",
        "\n",
        "    p_old = a\n",
        "    print('iter \\t    a_n\\t      b_n\\t p_n   f(a_n)  f(p_n)  RelErr')\n",
        "    while i <= N0: # Step 2\n",
        "        # Step 3\n",
        "\n",
        "        RelErr = np.abs(p - p_old)/np.abs(p)\n",
        "        print('{}\\t {:.6f}  {:.6f}  {:.6f}  {:>5.3f}  {:>+5.3f}  {:.5f}'.format(i,a,b,p,FA,FP,RelErr))\n",
        "        # Step 4\n",
        "        if FP == 0 or (b-a)/2 < TOL:\n",
        "            return p\n",
        "        # Step 5\n",
        "\n",
        "        # Step 6\n",
        "        if FA * FP > 0:\n",
        "\n",
        "        else:\n",
        "\n",
        "    print('Method failed after N0 iterations, N0 = {}'.format(N0))\n",
        "    return p"
      ]
    },
    {
      "cell_type": "code",
      "execution_count": null,
      "id": "21772da7",
      "metadata": {
        "id": "21772da7"
      },
      "outputs": [],
      "source": [
        "f = lambda x: x**3 + 4*x**2 - 10\n",
        "a = 1\n",
        "b = 2\n",
        "N0 = 20\n",
        "TOL = 1e-4"
      ]
    },
    {
      "cell_type": "code",
      "execution_count": null,
      "id": "3fb794ae",
      "metadata": {
        "id": "3fb794ae"
      },
      "outputs": [],
      "source": [
        "p = bisection_relative_error_test(a, b, TOL, N0, f)"
      ]
    },
    {
      "cell_type": "markdown",
      "id": "fc64f84d",
      "metadata": {
        "id": "fc64f84d"
      },
      "source": [
        "ans\n",
        "```\n",
        "iter \t    a_n\t      b_n\t p_n   f(a_n)  f(p_n)  RelErr\n",
        "1\t 1.000000  2.000000  1.500000  -5.000  +2.375  0.33333\n",
        "2\t 1.000000  1.500000  1.250000  -5.000  -1.797  0.20000\n",
        "3\t 1.250000  1.500000  1.375000  -1.797  +0.162  0.09091\n",
        "4\t 1.250000  1.375000  1.312500  -1.797  -0.848  0.04762\n",
        "5\t 1.312500  1.375000  1.343750  -0.848  -0.351  0.02326\n",
        "6\t 1.343750  1.375000  1.359375  -0.351  -0.096  0.01149\n",
        "7\t 1.359375  1.375000  1.367188  -0.096  +0.032  0.00571\n",
        "8\t 1.359375  1.367188  1.363281  -0.096  -0.032  0.00287\n",
        "9\t 1.363281  1.367188  1.365234  -0.032  +0.000  0.00143\n",
        "10\t 1.363281  1.365234  1.364258  -0.032  -0.016  0.00072\n",
        "11\t 1.364258  1.365234  1.364746  -0.016  -0.008  0.00036\n",
        "12\t 1.364746  1.365234  1.364990  -0.008  -0.004  0.00018\n",
        "13\t 1.364990  1.365234  1.365112  -0.004  -0.002  0.00009\n",
        "14\t 1.365112  1.365234  1.365173  -0.002  -0.001  0.00004\n",
        "```"
      ]
    },
    {
      "cell_type": "markdown",
      "id": "f17e13c0",
      "metadata": {
        "id": "f17e13c0"
      },
      "source": [
        "## 2.2 Fixed-Point Iteration"
      ]
    },
    {
      "cell_type": "markdown",
      "id": "95e8f605",
      "metadata": {
        "id": "95e8f605"
      },
      "source": [
        "<img src=\"https://github.com/dw-shin/numerical_analysis/blob/main/figures/fixed_point.png?raw=true\" width=\"900\"/>"
      ]
    },
    {
      "cell_type": "markdown",
      "id": "a173fbf2",
      "metadata": {
        "id": "a173fbf2"
      },
      "source": [
        "### Q3: Complete the following code."
      ]
    },
    {
      "cell_type": "code",
      "execution_count": null,
      "id": "0296571a",
      "metadata": {
        "id": "0296571a"
      },
      "outputs": [],
      "source": [
        "def fixed_point(p0, TOL, N0, g):\n",
        "    # Step 1\n",
        "\n",
        "    print('{} iteration: p = {}'.format(0,p0))\n",
        "    while i <= N0: # Step 2\n",
        "        # Step 3\n",
        "\n",
        "        print('{} iteration: p = {}'.format(i,p))\n",
        "        # Step 4\n",
        "        if np.abs(p - p0) < TOL:\n",
        "            return p\n",
        "        # Step 5\n",
        "\n",
        "        # Step 6\n",
        "\n",
        "    print('The method failed after N0 iterations, N0 = {}'.format(N0))\n",
        "    return p"
      ]
    },
    {
      "cell_type": "markdown",
      "id": "47ffdb9d",
      "metadata": {
        "id": "47ffdb9d"
      },
      "source": [
        "### Example\n",
        "The equation\n",
        "$$x^3 + 4x^2 - 10 = 0$$\n",
        "has a unique root in $[1, 2]$. Its value is approximately $1.365230013$."
      ]
    },
    {
      "cell_type": "code",
      "execution_count": null,
      "id": "8f250b5a",
      "metadata": {
        "id": "8f250b5a"
      },
      "outputs": [],
      "source": [
        "p0 = 1.5\n",
        "TOL = 1e-9\n",
        "N0 = 50"
      ]
    },
    {
      "cell_type": "markdown",
      "id": "8d16acf2",
      "metadata": {
        "id": "8d16acf2"
      },
      "source": [
        "\\begin{align}\n",
        "(a) &\\quad  x = g_1(x) = x - x^3 - 4x^2 + 10 \\\\[3ex]\n",
        "(b) &\\quad  x = g_2(x) = \\left(\\frac{10}{x} - 4x\\right)^{1/2} \\\\[3ex]\n",
        "(c) &\\quad  x = g_3(x) = \\frac{1}{2}(10 -x^3)^{1/2} \\\\[3ex]\n",
        "(d) &\\quad  x = g_4(x) = \\left(\\frac{10}{4+x}\\right)^{1/2} \\\\[3ex]\n",
        "(e) &\\quad  x = g_5(x) = x - \\frac{x^3 + 4x^2 - 10}{3x^2 + 8x}\n",
        "\\end{align}"
      ]
    },
    {
      "cell_type": "code",
      "execution_count": null,
      "id": "08ac414f",
      "metadata": {
        "id": "08ac414f"
      },
      "outputs": [],
      "source": [
        "g1 = lambda x: x - x**3 - 4*x**2 + 10\n",
        "p1 = fixed_point(p0, TOL, N0, g1)"
      ]
    },
    {
      "cell_type": "markdown",
      "id": "194b9d51",
      "metadata": {
        "id": "194b9d51"
      },
      "source": [
        "ans\n",
        "```\n",
        "0 iteration: p = 1.5\n",
        "1 iteration: p = -0.875\n",
        "2 iteration: p = 6.732421875\n",
        "3 iteration: p = -469.72001200169325\n",
        "4 iteration: p = 102754555.18738511\n",
        "5 iteration: p = -1.0849338705317464e+24\n",
        "6 iteration: p = 1.277055591444378e+72\n",
        "7 iteration: p = -2.082712908581025e+216\n",
        "---------------------------------------------------------------------------\n",
        "OverflowError                             Traceback (most recent call last)\n",
        "<ipython-input-10-83b5be73c735> in <module>\n",
        "      1 g1 = lambda x: x - x**3 - 4*x**2 + 10\n",
        "----> 2 p1 = fixed_point(p0, TOL, N0, g1)\n",
        "\n",
        "<ipython-input-8-16ba0b8f1630> in fixed_point(p0, TOL, N0, g)\n",
        "      5     while i <= N0: # Step 2\n",
        "      6         # Step 3\n",
        "----> 7         p = g(p0)\n",
        "      8         print('{} iteration: p = {}'.format(i,p))\n",
        "      9         # Step 4\n",
        "\n",
        "<ipython-input-10-83b5be73c735> in <lambda>(x)\n",
        "----> 1 g1 = lambda x: x - x**3 - 4*x**2 + 10\n",
        "      2 p1 = fixed_point(p0, TOL, N0, g1)\n",
        "\n",
        "OverflowError: (34, 'Result too large')\n",
        "```"
      ]
    },
    {
      "cell_type": "code",
      "execution_count": null,
      "id": "98a65546",
      "metadata": {
        "id": "98a65546"
      },
      "outputs": [],
      "source": [
        "g2 = lambda x: (10/x - 4*x)**(1/2)\n",
        "p2 = fixed_point(p0, TOL, N0, g2)"
      ]
    },
    {
      "cell_type": "markdown",
      "id": "69d8ef97",
      "metadata": {
        "id": "69d8ef97"
      },
      "source": [
        "ans\n",
        "```\n",
        "0 iteration: p = 1.5\n",
        "1 iteration: p = 0.8164965809277263\n",
        "2 iteration: p = 2.99690880578722\n",
        "3 iteration: p = (1.8009870517888697e-16+2.9412350614769696j)\n",
        "4 iteration: p = (2.753622388435798-2.7536223884357978j)\n",
        "5 iteration: p = (1.8149915190342965+3.5345287899110978j)\n",
        "6 iteration: p = (2.384265848282152-3.4343880639913653j)\n",
        "7 iteration: p = (2.1827719000404864+3.5968792282126074j)\n",
        "8 iteration: p = (2.2969975869195762-3.574104461766303j)\n",
        "9 iteration: p = (2.256510286178681+3.606561219908025j)\n",
        "10 iteration: p = (2.279179049045792-3.601936572660512j)\n",
        "11 iteration: p = (2.2711425866445816+3.6083714700780427j)\n",
        "12 iteration: p = (2.2756313114071633-3.6074516211228045j)\n",
        "13 iteration: p = (2.2740399271554783+3.608725566877711j)\n",
        "14 iteration: p = (2.274928362374139-3.608543344087092j)\n",
        "15 iteration: p = (2.2746133839806495+3.6087954811499277j)\n",
        "16 iteration: p = (2.2747892129633622-3.60875941139254j)\n",
        "17 iteration: p = (2.274726875943459+3.608809311101575j)\n",
        "18 iteration: p = (2.2747616734096163-3.6088021724631636j)\n",
        "19 iteration: p = (2.2747493365873503+3.60881204785879j)\n",
        "20 iteration: p = (2.27475622316243-3.608810635080478j)\n",
        "21 iteration: p = (2.2747537816496832+3.6088125894650998j)\n",
        "22 iteration: p = (2.2747551445329415-3.608812309869728j)\n",
        "23 iteration: p = (2.2747546613469103+3.6088126966509497j)\n",
        "24 iteration: p = (2.274754931067419-3.6088126413177988j)\n",
        "25 iteration: p = (2.274754835442806+3.608812717863479j)\n",
        "26 iteration: p = (2.2747548888216635-3.6088127069128073j)\n",
        "27 iteration: p = (2.274754869897138+3.608812722061529j)\n",
        "28 iteration: p = (2.2747548804610456-3.6088127198943436j)\n",
        "29 iteration: p = (2.2747548767158+3.608812722892342j)\n",
        "30 iteration: p = (2.2747548788064433-3.608812722463446j)\n",
        "31 iteration: p = (2.274754878065243+3.6088127230567633j)\n",
        "32 iteration: p = (2.2747548784789897-3.6088127229718827j)\n",
        "33 iteration: p = (2.274754878332304+3.608812723089302j)\n",
        "34 iteration: p = (2.274754878414185-3.608812723072505j)\n",
        "35 iteration: p = (2.2747548783851563+3.6088127230957427j)\n",
        "36 iteration: p = (2.2747548784013607-3.6088127230924183j)\n",
        "37 iteration: p = (2.2747548783956164+3.608812723097017j)\n",
        "38 iteration: p = (2.2747548783988227-3.6088127230963596j)\n",
        "39 iteration: p = (2.2747548783976854+3.6088127230972695j)\n",
        "40 iteration: p = (2.27475487839832-3.608812723097139j)\n",
        "41 iteration: p = (2.2747548783980953+3.608812723097319j)\n",
        "42 iteration: p = (2.274754878398221-3.6088127230972935j)\n",
        "43 iteration: p = (2.2747548783981766+3.60881272309733j)\n",
        "44 iteration: p = (2.274754878398202-3.6088127230973246j)\n",
        "45 iteration: p = (2.274754878398192+3.6088127230973313j)\n",
        "46 iteration: p = (2.2747548783981975-3.60881272309733j)\n",
        "47 iteration: p = (2.2747548783981957+3.608812723097331j)\n",
        "48 iteration: p = (2.2747548783981957-3.608812723097331j)\n",
        "49 iteration: p = (2.2747548783981957+3.608812723097331j)\n",
        "50 iteration: p = (2.2747548783981957-3.608812723097331j)\n",
        "The method failed after N0 iterations, N0 = 50\n",
        "```"
      ]
    },
    {
      "cell_type": "code",
      "execution_count": null,
      "id": "36eb03da",
      "metadata": {
        "id": "36eb03da"
      },
      "outputs": [],
      "source": [
        "g3 = lambda x: (10 - x**3)**(1/2) / 2\n",
        "p3 = fixed_point(p0, TOL, N0, g3)"
      ]
    },
    {
      "cell_type": "markdown",
      "id": "1b249ac6",
      "metadata": {
        "id": "1b249ac6"
      },
      "source": [
        "ans\n",
        "```\n",
        "0 iteration: p = 1.5\n",
        "1 iteration: p = 1.286953767623375\n",
        "2 iteration: p = 1.4025408035395783\n",
        "3 iteration: p = 1.3454583740232942\n",
        "4 iteration: p = 1.3751702528160383\n",
        "5 iteration: p = 1.360094192761733\n",
        "6 iteration: p = 1.3678469675921328\n",
        "7 iteration: p = 1.3638870038840212\n",
        "8 iteration: p = 1.36591673339004\n",
        "9 iteration: p = 1.364878217193677\n",
        "10 iteration: p = 1.365410061169957\n",
        "11 iteration: p = 1.3651378206692129\n",
        "12 iteration: p = 1.3652772085244786\n",
        "13 iteration: p = 1.3652058502970472\n",
        "14 iteration: p = 1.3652423837188388\n",
        "15 iteration: p = 1.3652236802252822\n",
        "16 iteration: p = 1.3652332557424998\n",
        "17 iteration: p = 1.365228353462627\n",
        "18 iteration: p = 1.3652308632436367\n",
        "19 iteration: p = 1.3652295783339587\n",
        "20 iteration: p = 1.3652302361581812\n",
        "21 iteration: p = 1.3652298993777325\n",
        "22 iteration: p = 1.3652300717962909\n",
        "23 iteration: p = 1.365229983524674\n",
        "24 iteration: p = 1.3652300287163228\n",
        "25 iteration: p = 1.36523000557995\n",
        "26 iteration: p = 1.3652300174248766\n",
        "27 iteration: p = 1.365230011360733\n",
        "28 iteration: p = 1.3652300144653395\n",
        "29 iteration: p = 1.3652300128759014\n",
        "30 iteration: p = 1.365230013689632\n",
        "```"
      ]
    },
    {
      "cell_type": "code",
      "execution_count": null,
      "id": "531a00c4",
      "metadata": {
        "id": "531a00c4"
      },
      "outputs": [],
      "source": [
        "g4 = lambda x: (10/(4+x))**(1/2)\n",
        "p4 = fixed_point(p0, TOL, N0, g4)"
      ]
    },
    {
      "cell_type": "markdown",
      "id": "0d936ff7",
      "metadata": {
        "id": "0d936ff7"
      },
      "source": [
        "ans\n",
        "```\n",
        "0 iteration: p = 1.5\n",
        "1 iteration: p = 1.348399724926484\n",
        "2 iteration: p = 1.3673763719912828\n",
        "3 iteration: p = 1.364957015402487\n",
        "4 iteration: p = 1.3652647481134421\n",
        "5 iteration: p = 1.365225594160525\n",
        "6 iteration: p = 1.3652305756734338\n",
        "7 iteration: p = 1.3652299418781833\n",
        "8 iteration: p = 1.3652300225155685\n",
        "9 iteration: p = 1.365230012256122\n",
        "10 iteration: p = 1.3652300135614253\n",
        "11 iteration: p = 1.3652300133953523\n",
        "```"
      ]
    },
    {
      "cell_type": "code",
      "execution_count": null,
      "id": "03363a0c",
      "metadata": {
        "id": "03363a0c"
      },
      "outputs": [],
      "source": [
        "g5 = lambda x: x - (x**3 + 4*x**2 - 10)/(3*x**2 + 8*x)\n",
        "p5 = fixed_point(p0, TOL, N0, g5)"
      ]
    },
    {
      "cell_type": "markdown",
      "id": "9b81eaa6",
      "metadata": {
        "id": "9b81eaa6"
      },
      "source": [
        "ans\n",
        "```\n",
        "0 iteration: p = 1.5\n",
        "1 iteration: p = 1.3733333333333333\n",
        "2 iteration: p = 1.3652620148746266\n",
        "3 iteration: p = 1.3652300139161466\n",
        "4 iteration: p = 1.3652300134140969\n",
        "```"
      ]
    },
    {
      "cell_type": "markdown",
      "id": "79cc46ae",
      "metadata": {
        "id": "79cc46ae"
      },
      "source": [
        "## 2.3 Newton's Method and Its Extensions"
      ]
    },
    {
      "cell_type": "markdown",
      "id": "82eb6637",
      "metadata": {
        "id": "82eb6637"
      },
      "source": [
        "### Newton's Method\n",
        "<img src=\"https://github.com/dw-shin/numerical_analysis/blob/main/figures/newton.png?raw=true\" width=\"900\"/>"
      ]
    },
    {
      "cell_type": "markdown",
      "id": "81bbdb9e",
      "metadata": {
        "id": "81bbdb9e"
      },
      "source": [
        "### Q4: Complete the following code."
      ]
    },
    {
      "cell_type": "code",
      "execution_count": null,
      "id": "f475d703",
      "metadata": {
        "id": "f475d703"
      },
      "outputs": [],
      "source": [
        "def newton(p0, TOL, N0, f, fp):\n",
        "    # Step 1\n",
        "\n",
        "    while i <= N0: #Step 2\n",
        "        # Step 3\n",
        "\n",
        "        print('{} iteration: p0 = {:.7f}\\t p = {:.7f} \\t    |p - p0| = {:.8f}'.format(i, p0, p, np.abs(p - p0)))\n",
        "        # Step 4\n",
        "        if np.abs(p - p0) < TOL:\n",
        "            return p\n",
        "        # Step 5\n",
        "\n",
        "        # Step 6\n",
        "\n",
        "    print('The method failed after N0 iterations, N0 = {}'.format(N0))\n",
        "    return p"
      ]
    },
    {
      "cell_type": "markdown",
      "id": "95702d6f",
      "metadata": {
        "id": "95702d6f"
      },
      "source": [
        "### Example\n",
        "Consider the function $f(x) = \\cos x - x = 0$. Approximate a root of $f$ using Newton's Method."
      ]
    },
    {
      "cell_type": "code",
      "execution_count": null,
      "id": "b8ddb403",
      "metadata": {
        "id": "b8ddb403"
      },
      "outputs": [],
      "source": [
        "f = lambda x: np.cos(x) - x\n",
        "fp = lambda x: -np.sin(x) - 1\n",
        "p0 = np.pi / 4\n",
        "TOL = 1e-8"
      ]
    },
    {
      "cell_type": "code",
      "execution_count": null,
      "id": "0e5b6c8a",
      "metadata": {
        "id": "0e5b6c8a"
      },
      "outputs": [],
      "source": [
        "p = newton(p0,TOL,N0,f,fp)"
      ]
    },
    {
      "cell_type": "markdown",
      "id": "1279db53",
      "metadata": {
        "id": "1279db53"
      },
      "source": [
        "ans\n",
        "```\n",
        "1 iteration: p0 = 0.7853982\t p = 0.7395361 \t    |p - p0| = 0.04586203\n",
        "2 iteration: p0 = 0.7395361\t p = 0.7390852 \t    |p - p0| = 0.00045096\n",
        "3 iteration: p0 = 0.7390852\t p = 0.7390851 \t    |p - p0| = 0.00000004\n",
        "4 iteration: p0 = 0.7390851\t p = 0.7390851 \t    |p - p0| = 0.00000000\n",
        "```"
      ]
    },
    {
      "cell_type": "markdown",
      "id": "bd6c1464",
      "metadata": {
        "id": "bd6c1464"
      },
      "source": [
        "### Secant Method\n",
        "<img src=\"https://github.com/dw-shin/numerical_analysis/blob/main/figures/secant.png?raw=true\" width=\"900\"/>"
      ]
    },
    {
      "cell_type": "markdown",
      "id": "6ac90a45",
      "metadata": {
        "id": "6ac90a45"
      },
      "source": [
        "### Q5: Complete the following code."
      ]
    },
    {
      "cell_type": "code",
      "execution_count": null,
      "id": "8b864564",
      "metadata": {
        "id": "8b864564"
      },
      "outputs": [],
      "source": [
        "def secant(p0, p1, TOL, N0, f):\n",
        "    # Step 1\n",
        "\n",
        "    while i <= N0: #Step 2\n",
        "        # Step 3\n",
        "\n",
        "        print('{} iteration: p0 = {:.9f}\\t p1 = {:.9f}\\t    p = {:.9f} \\t |p - p1| = {:.10f}'.format(i, p0, p1, p, np.abs(p - p0)))\n",
        "        # Step 4\n",
        "        if np.abs(p - p0) < TOL:\n",
        "            return p\n",
        "        # Step 5\n",
        "\n",
        "        # Step 6\n",
        "\n",
        "    print('The method failed after N0 iterations, N0 = {}'.format(N0))\n",
        "    return p"
      ]
    },
    {
      "cell_type": "code",
      "execution_count": null,
      "id": "dfd61b6a",
      "metadata": {
        "id": "dfd61b6a"
      },
      "outputs": [],
      "source": [
        "f = lambda x: np.cos(x) - x\n",
        "p0 = 0.5\n",
        "p1 = np.pi / 4\n",
        "TOL = 1e-8"
      ]
    },
    {
      "cell_type": "code",
      "execution_count": null,
      "id": "cc4d47ce",
      "metadata": {
        "id": "cc4d47ce"
      },
      "outputs": [],
      "source": [
        "p = secant(p0, p1, TOL, N0, f)"
      ]
    },
    {
      "cell_type": "markdown",
      "id": "0669ba9b",
      "metadata": {
        "id": "0669ba9b"
      },
      "source": [
        "ans\n",
        "```\n",
        "2 iteration: p0 = 0.500000000\t p1 = 0.785398163\t    p = 0.736384139 \t |p - p1| = 0.2363841388\n",
        "3 iteration: p0 = 0.785398163\t p1 = 0.736384139\t    p = 0.739058139 \t |p - p1| = 0.0463400242\n",
        "4 iteration: p0 = 0.736384139\t p1 = 0.739058139\t    p = 0.739085149 \t |p - p1| = 0.0027010105\n",
        "5 iteration: p0 = 0.739058139\t p1 = 0.739085149\t    p = 0.739085133 \t |p - p1| = 0.0000269940\n",
        "6 iteration: p0 = 0.739085149\t p1 = 0.739085133\t    p = 0.739085133 \t |p - p1| = 0.0000000161\n",
        "7 iteration: p0 = 0.739085133\t p1 = 0.739085133\t    p = 0.739085133 \t |p - p1| = 0.0000000000\n",
        "```"
      ]
    },
    {
      "cell_type": "code",
      "execution_count": null,
      "id": "4ea0f196",
      "metadata": {
        "id": "4ea0f196"
      },
      "outputs": [],
      "source": []
    }
  ],
  "metadata": {
    "kernelspec": {
      "display_name": "Python 3",
      "language": "python",
      "name": "python3"
    },
    "language_info": {
      "codemirror_mode": {
        "name": "ipython",
        "version": 3
      },
      "file_extension": ".py",
      "mimetype": "text/x-python",
      "name": "python",
      "nbconvert_exporter": "python",
      "pygments_lexer": "ipython3",
      "version": "3.9.5"
    },
    "colab": {
      "provenance": [],
      "include_colab_link": true
    }
  },
  "nbformat": 4,
  "nbformat_minor": 5
}