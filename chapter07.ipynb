{
  "cells": [
    {
      "cell_type": "markdown",
      "metadata": {
        "id": "view-in-github",
        "colab_type": "text"
      },
      "source": [
        "<a href=\"https://colab.research.google.com/github/dw-shin/numerical_analysis/blob/main/chapter07.ipynb\" target=\"_parent\"><img src=\"https://colab.research.google.com/assets/colab-badge.svg\" alt=\"Open In Colab\"/></a>"
      ]
    },
    {
      "cell_type": "code",
      "execution_count": null,
      "id": "0cd24404",
      "metadata": {
        "id": "0cd24404"
      },
      "outputs": [],
      "source": [
        "import numpy as np"
      ]
    },
    {
      "cell_type": "markdown",
      "id": "badaeaa9",
      "metadata": {
        "id": "badaeaa9"
      },
      "source": [
        "# Chapter 7. Iterative Techniques in Matrix Algebra\n",
        "## 7.3 The Jacobi and Gauss-Siedel Iterative Techniques"
      ]
    },
    {
      "cell_type": "markdown",
      "id": "7069d427",
      "metadata": {
        "id": "7069d427"
      },
      "source": [
        "### Jacobi Iterative Technique\n",
        "#### Pseudocode\n",
        "<img src=\"https://github.com/dw-shin/numerical_analysis/blob/main/figures/jacobi.png?raw=true\" width=\"700\"/>"
      ]
    },
    {
      "cell_type": "markdown",
      "id": "1dfbed15",
      "metadata": {
        "id": "1dfbed15"
      },
      "source": [
        "### Q1: Write the appropriate code for the 'None' position."
      ]
    },
    {
      "cell_type": "code",
      "execution_count": null,
      "id": "05e852a4",
      "metadata": {
        "id": "05e852a4"
      },
      "outputs": [],
      "source": [
        "def jacobi(A,b,x0,n_iter, Tol):\n",
        "    n = None\n",
        "    k = None\n",
        "    while k <= n_iter:\n",
        "        x = np.zeros_like(b)\n",
        "        for i in range(n):\n",
        "            for j in range(n):\n",
        "                if j != i:\n",
        "                    x[i] -= None\n",
        "            x[i] += None\n",
        "            x[i] /= None\n",
        "        print(np.round(x,4))\n",
        "        if np.max(np.abs(x - x0))/np.max(np.abs(x)) < Tol:\n",
        "            return x\n",
        "        k += 1\n",
        "        x0 = None\n",
        "    print('Maximum number of iterations exceeded')\n",
        "    return x"
      ]
    },
    {
      "cell_type": "markdown",
      "id": "2f28feb9",
      "metadata": {
        "id": "2f28feb9"
      },
      "source": [
        "### Example 1\n",
        "The linear system $A\\boldsymbol{x} = \\boldsymbol{b}$ given by\n",
        "\n",
        "$$\\begin{array}{rl}\n",
        "\t10 x_1 - x_2 + 2x_3 &= 6 \\\\\n",
        "\t-x_1 + 11 x_2 - x_3 + 3x_4 &= 25\\\\\n",
        "\t2 x_1 - x_2 + 10 x_3 - x_4 &= -11 \\\\\n",
        "\t3 x_2 - x_3 + 8 x_4 &= 15\n",
        "\\end{array}$$\n",
        "\n",
        "has the unique solution $\\boldsymbol{x} = (1,2,-1,1)^t$. Use Jacobi's iterative technique to find approximations $\\boldsymbol{x}^{(k)}$ to $\\boldsymbol{x}$ starting with $\\boldsymbol{x}^{(0)} = (0,0,0,0)^t$ until\n",
        "\n",
        "$$\\frac{\\|\\boldsymbol{x}^{(k)} - \\boldsymbol{x}^{(k-1)}\\|_\\infty}{\\|\\boldsymbol{x}^{(k)}\\|_\\infty} < 10^{-3}$$"
      ]
    },
    {
      "cell_type": "code",
      "execution_count": null,
      "id": "3450379b",
      "metadata": {
        "id": "3450379b"
      },
      "outputs": [],
      "source": [
        "A = np.array([[10.,-1.,2.,0.],[-1.,11.,-1.,3.],[2.,-1.,10.,-1.],[0.,3.,-1.,8.]])\n",
        "b = np.array([6.,25.,-11.,15.])\n",
        "n_iter = 10\n",
        "Tol = 1e-3\n",
        "x0 = np.zeros(4)\n",
        "\n",
        "x = jacobi(A,b,x0,n_iter,Tol)"
      ]
    },
    {
      "cell_type": "markdown",
      "id": "c40cffc6",
      "metadata": {
        "id": "c40cffc6"
      },
      "source": [
        "```\n",
        "ans\n",
        "\n",
        "[ 0.6     2.2727 -1.1     1.875 ]\n",
        "[ 1.0473  1.7159 -0.8052  0.8852]\n",
        "[ 0.9326  2.0533 -1.0493  1.1309]\n",
        "[ 1.0152  1.9537 -0.9681  0.9738]\n",
        "[ 0.989   2.0114 -1.0103  1.0214]\n",
        "[ 1.0032  1.9922 -0.9945  0.9944]\n",
        "[ 0.9981  2.0023 -1.002   1.0036]\n",
        "[ 1.0006  1.9987 -0.999   0.9989]\n",
        "[ 0.9997  2.0004 -1.0004  1.0006]\n",
        "```"
      ]
    },
    {
      "cell_type": "markdown",
      "id": "931e0faf",
      "metadata": {
        "id": "931e0faf"
      },
      "source": [
        "### Matrix Form"
      ]
    },
    {
      "cell_type": "markdown",
      "id": "f873093f",
      "metadata": {
        "id": "f873093f"
      },
      "source": [
        "\\begin{align*}\n",
        "\tA &= \\left[\\begin{array}{cccc}\n",
        "\t\ta_{11} & a_{12} & \\cdots & a_{1n} \\\\\n",
        "\t\ta_{21} & a_{22} & \\cdots & a_{2n} \\\\\n",
        "\t\t\\vdots & \\vdots & \\ddots & \\vdots \\\\\n",
        "\t\ta_{n1} & a_{n2} & \\cdots & a_{nn}\n",
        "\t\\end{array}\\right] \\\\[2ex]\n",
        "\t&= \\underbrace{\\left[\\begin{array}{cccc}\n",
        "\t\ta_{11} & 0 & \\cdots & 0 \\\\\n",
        "\t\t0 & a_{22} & \\ddots & \\vdots \\\\\n",
        "\t\t\\vdots & \\ddots & \\ddots & 0 \\\\\n",
        "\t\t0 & \\cdots & 0 & a_{nn}\n",
        "\t\\end{array}\\right]}_{D} - \\underbrace{\\left[\\begin{array}{cccc}\n",
        "\t\t0 & \\cdots & \\cdots & 0 \\\\\n",
        "\t\t-a_{21} & \\ddots &  & \\vdots \\\\\n",
        "\t\t\\vdots & \\ddots & \\ddots & \\vdots \\\\\n",
        "\t\t-a_{n1} & \\cdots & -a_{n,n-1} & 0\n",
        "\t\\end{array}\\right]}_L - \\underbrace{\\left[\\begin{array}{cccc}\n",
        "\t\t0 & -a_{12} & \\cdots & -a_{1n} \\\\\n",
        "\t\t\\vdots & \\ddots & \\ddots & \\vdots \\\\\n",
        "\t\t\\vdots &  & \\ddots & -a_{n-1,n} \\\\\n",
        "\t\t0 & \\cdots & \\cdots & 0\n",
        "\t\\end{array}\\right]}_{U}\n",
        "\\end{align*}\n",
        "\n",
        "The results in the matrix form of the Jacobi iterative technique:\n",
        "\n",
        "$$\\boldsymbol{x}^{(k)} = D^{-1}(L + U)\\boldsymbol{x}^{(k-1)} + D^{-1}\\boldsymbol{b},\\qquad k = 1,2,\\cdots$$\n",
        "\n",
        "Introducing the notation $T_j = D^{-1}(L+U)$ and $\\boldsymbol{c}_j = D^{-1}\\boldsymbol{b}$ gives\n",
        "\n",
        "$$\\boldsymbol{x}^{(k)} = T_j \\boldsymbol{x}^{(k-1)} + \\boldsymbol{c}_j$$"
      ]
    },
    {
      "cell_type": "markdown",
      "id": "d00368b0",
      "metadata": {
        "id": "d00368b0"
      },
      "source": [
        "### Example 2\n",
        "Express the Jacobi iteration method for the linear system $A\\boldsymbol{x} = \\boldsymbol{b}$ given by\n",
        "\n",
        "$$\\begin{array}{lrl}\n",
        "\tE_1: & 10 x_1 - x_2 + 2x_3 &= 6 \\\\\n",
        "\tE_2: &-x_1 + 11 x_2 - x_3 + 3x_4 &= 25\\\\\n",
        "\tE_3: & 2 x_1 - x_2 + 10 x_3 - x_4 &= -11 \\\\\n",
        "\tE_4: & 3 x_2 - x_3 + 8 x_4 &= 15\n",
        "\\end{array}$$\n",
        "\n",
        "in the form $\\boldsymbol{x}^{(k)} = T\\boldsymbol{x}^{(k-1)} + \\boldsymbol{c}$."
      ]
    },
    {
      "cell_type": "code",
      "execution_count": null,
      "id": "94baac22",
      "metadata": {
        "id": "94baac22"
      },
      "outputs": [],
      "source": [
        "A = np.array([[10.,-1.,2.,0.],[-1.,11.,-1.,3.],[2.,-1.,10.,-1.],[0.,3.,-1.,8.]])\n",
        "b = np.array([6.,25.,-11.,15.])\n",
        "\n",
        "T = np.array([-A[i]/A[i,i] for i in range(A.shape[0])])\n",
        "c = b.copy()\n",
        "for i in range(T.shape[0]):\n",
        "    c[i] /= A[i,i]\n",
        "    T[i,i] = 0\n",
        "print('T=', T)\n",
        "print('c=',c)"
      ]
    },
    {
      "cell_type": "code",
      "execution_count": null,
      "id": "aeb2b2b9",
      "metadata": {
        "id": "aeb2b2b9"
      },
      "outputs": [],
      "source": [
        "x0 = np.zeros_like(b)\n",
        "n_iter = 10\n",
        "for j in range(n_iter):\n",
        "    x0 = np.matmul(T,x0) + c\n",
        "    print(np.round(x0,4))"
      ]
    },
    {
      "cell_type": "markdown",
      "id": "32a1ed63",
      "metadata": {
        "id": "32a1ed63"
      },
      "source": [
        "### Gauss-Seidel Iterative Technique\n",
        "#### Pseudocode\n",
        "<img src=\"https://github.com/dw-shin/numerical_analysis/blob/main/figures/gauss-seidel.png?raw=true\" width=\"700\"/>"
      ]
    },
    {
      "cell_type": "markdown",
      "id": "410e8db2",
      "metadata": {
        "id": "410e8db2"
      },
      "source": [
        "### Q2: Write the appropriate code for the 'None' position."
      ]
    },
    {
      "cell_type": "code",
      "execution_count": null,
      "id": "bcff30c4",
      "metadata": {
        "id": "bcff30c4"
      },
      "outputs": [],
      "source": [
        "def gauss_seidel(A,b,x0,n_iter, Tol):\n",
        "    n = None\n",
        "    k = None\n",
        "    while k <= n_iter:\n",
        "        x = np.zeros_like(b)\n",
        "        for i in range(n):\n",
        "            for j in range(n):\n",
        "                if j < i:\n",
        "                    x[i] -= None\n",
        "                elif j > i:\n",
        "                    x[i] -= None\n",
        "            x[i] += None\n",
        "            x[i] /= None\n",
        "        print(np.round(x,4))\n",
        "        if np.max(np.abs(x - x0))/np.max(np.abs(x)) < Tol:\n",
        "            return x\n",
        "        k += 1\n",
        "        x0 = None\n",
        "    print('Maximum number of iterations exceeded')\n",
        "    return x"
      ]
    },
    {
      "cell_type": "markdown",
      "id": "91b70ed6",
      "metadata": {
        "id": "91b70ed6"
      },
      "source": [
        "### Example 3\n",
        "Use the Gauss-Seidel iterative technique to find approximate solutions to\n",
        "\n",
        "$$\\begin{array}{rl}\n",
        "\t10 x_1 - x_2 + 2x_3 &= 6 \\\\\n",
        "\t-x_1 + 11 x_2 - x_3 + 3x_4 &= 25\\\\\n",
        "\t2 x_1 - x_2 + 10 x_3 - x_4 &= -11 \\\\\n",
        "\t3 x_2 - x_3 + 8 x_4 &= 15\n",
        "\\end{array}$$\n",
        "\n",
        "starting with $\\boldsymbol{x} = (0,0,0,0)^t$ and iterating until\n",
        "\n",
        "$$\\frac{\\|\\boldsymbol{x}^{(k)} -\\boldsymbol{x}^{(k-1)}\\|_\\infty}{\\|\\boldsymbol{x}^{(k)}\\|_\\infty} < 10^{-3}.$$"
      ]
    },
    {
      "cell_type": "code",
      "execution_count": null,
      "id": "8d4a668c",
      "metadata": {
        "id": "8d4a668c"
      },
      "outputs": [],
      "source": [
        "A = np.array([[10.,-1.,2.,0.],[-1.,11.,-1.,3.],[2.,-1.,10.,-1.],[0.,3.,-1.,8.]])\n",
        "b = np.array([6.,25.,-11.,15.])\n",
        "n_iter = 10\n",
        "Tol = 1e-3\n",
        "x0 = np.zeros(4)\n",
        "\n",
        "x = gauss_seidel(A,b,x0,n_iter,Tol)"
      ]
    },
    {
      "cell_type": "markdown",
      "id": "bb4c47dd",
      "metadata": {
        "id": "bb4c47dd"
      },
      "source": [
        "```\n",
        "ans\n",
        "\n",
        "[ 0.6     2.3273 -0.9873  0.8789]\n",
        "[ 1.0302  2.0369 -1.0145  0.9843]\n",
        "[ 1.0066  2.0036 -1.0025  0.9984]\n",
        "[ 1.0009  2.0003 -1.0003  0.9998]\n",
        "[ 1.0001  2.     -1.      1.    ]\n",
        "```"
      ]
    },
    {
      "cell_type": "markdown",
      "id": "a1b20fa9",
      "metadata": {
        "id": "a1b20fa9"
      },
      "source": [
        "### Matrix Form"
      ]
    },
    {
      "cell_type": "markdown",
      "id": "f020182a",
      "metadata": {
        "id": "f020182a"
      },
      "source": [
        "$$\\boldsymbol{x}^{(k)} = (D-L)^{-1}U\\boldsymbol{x}^{(k-1)} + (D-L)^{-1}\\boldsymbol{b}$$\n",
        "\n",
        "Letting $T_g = (D-L)^{-1}U$ and $\\boldsymbol{c}_g = (D-L)^{-1}\\boldsymbol{b}$, gives the Gauss-Seidel technique the form\n",
        "\n",
        "$$\\boldsymbol{x}^{(k)} = T_g \\boldsymbol{x}^{(k-1)} + \\boldsymbol{c}_g$$"
      ]
    },
    {
      "cell_type": "code",
      "execution_count": null,
      "id": "7a58a447",
      "metadata": {
        "id": "7a58a447"
      },
      "outputs": [],
      "source": [
        "A = np.array([[10.,-1.,2.,0.],[-1.,11.,-1.,3.],[2.,-1.,10.,-1.],[0.,3.,-1.,8.]])\n",
        "b = np.array([6.,25.,-11.,15.])\n",
        "\n",
        "L = np.zeros_like(A)\n",
        "D = np.zeros_like(A)\n",
        "U = np.zeros_like(A)\n",
        "\n",
        "for i in range(A.shape[0]):\n",
        "    D[i,i] = A[i,i]\n",
        "    for j in range(A.shape[0]):\n",
        "        if i > j:\n",
        "            L[i,j] = -A[i,j]\n",
        "        if i < j:\n",
        "            U[i,j] = -A[i,j]\n",
        "\n",
        "print('D = ',D)\n",
        "print('L = ',L)\n",
        "print('U = ',U)"
      ]
    },
    {
      "cell_type": "code",
      "execution_count": null,
      "id": "d9f09cf0",
      "metadata": {
        "id": "d9f09cf0"
      },
      "outputs": [],
      "source": [
        "T = np.matmul(np.linalg.inv(D-L),U)\n",
        "c = np.linalg.solve((D-L),b)\n",
        "\n",
        "print('T = ', T)\n",
        "print('c = ', c)"
      ]
    },
    {
      "cell_type": "code",
      "execution_count": null,
      "id": "be818070",
      "metadata": {
        "id": "be818070"
      },
      "outputs": [],
      "source": [
        "x0 = np.zeros_like(b)\n",
        "n_iter = 5\n",
        "for j in range(n_iter):\n",
        "    x0 = np.matmul(T,x0) + c\n",
        "    print(np.round(x0,4))"
      ]
    },
    {
      "cell_type": "code",
      "execution_count": null,
      "id": "fbb6b6ed",
      "metadata": {
        "id": "fbb6b6ed"
      },
      "outputs": [],
      "source": []
    }
  ],
  "metadata": {
    "kernelspec": {
      "display_name": "Python 3",
      "language": "python",
      "name": "python3"
    },
    "language_info": {
      "codemirror_mode": {
        "name": "ipython",
        "version": 3
      },
      "file_extension": ".py",
      "mimetype": "text/x-python",
      "name": "python",
      "nbconvert_exporter": "python",
      "pygments_lexer": "ipython3",
      "version": "3.9.5"
    },
    "colab": {
      "provenance": [],
      "include_colab_link": true
    }
  },
  "nbformat": 4,
  "nbformat_minor": 5
}